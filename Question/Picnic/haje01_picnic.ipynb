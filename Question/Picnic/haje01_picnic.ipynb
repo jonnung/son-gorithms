{
 "metadata": {
  "name": "",
  "signature": "sha256:d5a52506744bbd6b560171a158026a0378ea25db9c9a4ffbec4fa4a58e9d83a8"
 },
 "nbformat": 3,
 "nbformat_minor": 0,
 "worksheets": [
  {
   "cells": [
    {
     "cell_type": "code",
     "collapsed": false,
     "input": [
      "def count(fa, d):\n",
      "    if len(fa) <= 0:\n",
      "        return 1 if d == 0 else 0\n",
      "    h = fa[0][0]\n",
      "    s = 0\n",
      "    for f in fa:\n",
      "        if h in f:\n",
      "            ffa = [(x, y) for x, y in fa if not(x in f or y in f)]\n",
      "            s += count(ffa, d-1)\n",
      "    return s"
     ],
     "language": "python",
     "metadata": {},
     "outputs": [],
     "prompt_number": 9
    },
    {
     "cell_type": "code",
     "collapsed": false,
     "input": [
      "%load haje01_picnic_exec.py"
     ],
     "language": "python",
     "metadata": {},
     "outputs": [],
     "prompt_number": 15
    },
    {
     "cell_type": "code",
     "collapsed": false,
     "input": [
      "\n",
      "\n",
      "def count(fa, d):\n",
      "    if len(fa) == 0:\n",
      "        return 1 if d == 0 else 0\n",
      "    h = fa[0][0]\n",
      "    s = 0\n",
      "    for f in fa:\n",
      "        if h in f:\n",
      "            ffa = [(x, y) for x, y in fa if not(x in f or y in f)]\n",
      "            s += count(ffa, d-1)\n",
      "    return s\n",
      "\n",
      "\n",
      "if __name__ == \"__main__\":\n",
      "    c = int(raw_input())\n",
      "    for i in xrange(c):\n",
      "        n, _ = [int(v) for v in raw_input().split()]\n",
      "        f = [int(v) for v in raw_input().split()]\n",
      "        print count(zip(f[::2], f[1::2]), n/2)\n"
     ],
     "language": "python",
     "metadata": {},
     "outputs": [
      {
       "name": "stdout",
       "output_type": "stream",
       "stream": "stdout",
       "text": [
        "1\n"
       ]
      },
      {
       "name": "stdout",
       "output_type": "stream",
       "stream": "stdout",
       "text": [
        "2 1\n"
       ]
      },
      {
       "name": "stdout",
       "output_type": "stream",
       "stream": "stdout",
       "text": [
        "0 1\n"
       ]
      },
      {
       "output_type": "stream",
       "stream": "stdout",
       "text": [
        "1\n"
       ]
      }
     ],
     "prompt_number": 21
    },
    {
     "cell_type": "code",
     "collapsed": false,
     "input": [
      "n = 6\n",
      "f = [int(v) for v in \"0 1 0 2 1 2 1 3 1 4 2 3 2 4 3 4 3 5 4 5\".split()]"
     ],
     "language": "python",
     "metadata": {},
     "outputs": [],
     "prompt_number": 24
    },
    {
     "cell_type": "code",
     "collapsed": false,
     "input": [
      "print(count(zip(f[::2], f[1::2]), n/2))"
     ],
     "language": "python",
     "metadata": {},
     "outputs": [
      {
       "output_type": "stream",
       "stream": "stdout",
       "text": [
        "4\n"
       ]
      }
     ],
     "prompt_number": 25
    },
    {
     "cell_type": "code",
     "collapsed": false,
     "input": [],
     "language": "python",
     "metadata": {},
     "outputs": []
    }
   ],
   "metadata": {}
  }
 ]
}