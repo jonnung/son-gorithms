{
 "worksheets": [
  {
   "cells": [
    {
     "cell_type": "code",
     "metadata": {},
     "outputs": [
      {
       "output_type": "stream",
       "stream": "stdout",
       "text": [
        "Hello world\n"
       ]
      }
     ],
     "input": [
      "print(\"Hello world\")"
     ],
     "language": "python",
     "prompt_number": 78
    },
    {
     "cell_type": "code",
     "metadata": {},
     "outputs": [],
     "input": [
      "people = [0, 1, 2, 3]\n",
      "friend_reference = [(0, 1),(1, 2),(2, 3), (0, 3), (0, 2), (1, 3)]"
     ],
     "language": "python",
     "prompt_number": 79
    },
    {
     "cell_type": "markdown",
     "metadata": {},
     "source": [
      "이 함수는 전체 리스트와 2개씩 관계 있는 묶음(튜플) 리스트를 받는다.  \n",
      "원하는 결과는...  \n"
     ]
    },
    {
     "cell_type": "code",
     "metadata": {},
     "outputs": [],
     "input": [
      "def number_of_case_couple(peoples, friends, case=0):\n",
      "    couples = []\n",
      "    temp_friends = []\n",
      "    for f_index, fr in enumerate(friends):\n",
      "        if fr[0] not in couples and fr[1] not in couples:\n",
      "            couples.append(fr[0])\n",
      "            couples.append(fr[1])\n",
      "        else:\n",
      "            if fr not in temp_friends:\n",
      "                temp_friends.append(fr)\n",
      "                \n",
      "    if sorted(couples) == sorted(peoples):\n",
      "        case += 1\n",
      "\n",
      "    print(\"PEOPLES: \", peoples)\n",
      "    print(\"COUPLES: \", couples)\n",
      "    print(\"TEMP_FR: \", temp_friends)\n",
      "    print(\"---------------------------------------\")\n",
      "    if temp_friends:\n",
      "        case += number_of_case_couple(peoples, temp_friends)\n",
      "        \n",
      "    return case"
     ],
     "language": "python",
     "prompt_number": 80
    },
    {
     "cell_type": "code",
     "metadata": {},
     "outputs": [
      {
       "output_type": "stream",
       "stream": "stdout",
       "text": [
        "('PEOPLES: ', [0, 1, 2, 3])\n",
        "('COUPLES: ', [0, 1, 2, 3])\n",
        "('TEMP_FR: ', [(1, 2), (0, 3), (0, 2), (1, 3)])\n",
        "---------------------------------------\n",
        "('PEOPLES: ', [0, 1, 2, 3])\n",
        "('COUPLES: ', [1, 2, 0, 3])\n",
        "('TEMP_FR: ', [(0, 2), (1, 3)])\n",
        "---------------------------------------\n",
        "('PEOPLES: ', [0, 1, 2, 3])\n",
        "('COUPLES: ', [0, 2, 1, 3])\n",
        "('TEMP_FR: ', [])\n",
        "---------------------------------------\n",
        "3\n"
       ]
      }
     ],
     "input": [
      "print(number_of_case_couple(people, friend_reference))"
     ],
     "language": "python",
     "prompt_number": 82
    },
    {
     "cell_type": "code",
     "metadata": {},
     "outputs": [
      {
       "output_type": "stream",
       "stream": "stdout",
       "text": [
        "F\n"
       ]
      }
     ],
     "input": [
      "l = [(0, 2), (0, 3), (1, 4)]\n",
      "\n",
      "if (2, 0) in l:\n",
      "    print('T')\n",
      "else:\n",
      "    print('F')"
     ],
     "language": "python",
     "prompt_number": 3
    },
    {
     "cell_type": "code",
     "metadata": {},
     "outputs": [],
     "input": [
      "0 2 x\n",
      "0 3 <\n",
      "   1 5 \n",
      "   1 4 \n",
      "   1 3 x \n",
      "      2 4 <\n",
      "      2 5 \n",
      "         3 4 x"
     ],
     "language": "python"
    },
    {
     "cell_type": "code",
     "metadata": {},
     "outputs": [],
     "input": [
      "0 2 <\n",
      "0 3 \n",
      "   1 5  <\n",
      "   1 4     \n",
      "      2 4 x\n",
      "      2 5 x\n",
      "         3 1 x\n",
      "         3 4 <"
     ],
     "language": "python"
    },
    {
     "cell_type": "code",
     "metadata": {},
     "outputs": [],
     "input": [
      "0 2 <\n",
      "0 3 \n",
      "   1 3\n",
      "   1 5  <\n",
      "   1 4      \n",
      "      2 4 x\n",
      "      2 5 x\n",
      "         3 4 <"
     ],
     "language": "python"
    },
    {
     "cell_type": "code",
     "metadata": {},
     "outputs": [],
     "input": [
      "0 3 <\n",
      "   1 3 x\n",
      "   1 5 <\n",
      "   1 4     \n",
      "      2 0 x\n",
      "      2 4 <\n",
      "      2 5 \n",
      "         3 4 x"
     ],
     "language": "python"
    }
   ]
  }
 ],
 "cells": [],
 "metadata": {
  "name": "",
  "signature": "sha256:e4a1061ab4fdf3215b4a1c9c66781f7f8c64fefb0f64237e9f8777739563ebc2"
 },
 "nbformat": 3,
 "nbformat_minor": 0
}