{
 "metadata": {
  "signature": "sha256:28de44d39cca8818d58430d1cdcc33c7bec46961075d2ca37637fc30a41d2480"
 },
 "nbformat": 3,
 "nbformat_minor": 0,
 "worksheets": [
  {
   "cells": [
    {
     "cell_type": "markdown",
     "metadata": {},
     "source": [
      "## \ubb38\uc81c\n",
      "\uc548\ub4dc\ub85c\uba54\ub2e4 \uc720\uce58\uc6d0 \uc775\uc2a4\ud504\ub808\uc2a4\ubc18\uc5d0\uc11c\ub294 \ub2e4\uc74c \uc8fc\uc5d0 \uc728\ub3d9\uacf5\uc6d0\uc73c\ub85c \uc18c\ud48d\uc744 \uac11\ub2c8\ub2e4.  \n",
      "\uc6d0\uc11d \uc120\uc0dd\ub2d8\uc740 \uc18c\ud48d \ub54c \ud559\uc0dd\ub4e4\uc744 \ub450 \uba85\uc529 \uc9dd\uc744 \uc9c0\uc5b4 \ud589\ub3d9\ud558\uac8c \ud558\ub824\uace0 \ud569\ub2c8\ub2e4.  \n",
      "\uadf8\ub7f0\ub370 \uc11c\ub85c \uce5c\uad6c\uac00 \uc544\ub2cc \ud559\uc0dd\ub4e4\ub07c\ub9ac \uc9dd\uc744 \uc9c0\uc5b4 \uc8fc\uba74 \uc11c\ub85c \uc2f8\uc6b0\uac70\ub098 \uac19\uc774 \ub3cc\uc544\ub2e4\ub2c8\uc9c0 \uc54a\uae30 \ub54c\ubb38\uc5d0, \ud56d\uc0c1 \uc11c\ub85c \uce5c\uad6c\uc778 \ud559\uc0dd\ub4e4\ub07c\ub9ac\ub9cc \uc9dd\uc744 \uc9c0\uc5b4 \uc918\uc57c \ud569\ub2c8\ub2e4.  \n",
      "  \n",
      "\uac01 \ud559\uc0dd\ub4e4\uc758 \uc30d\uc5d0 \ub300\ud574 \uc774\ub4e4\uc774 \uc11c\ub85c \uce5c\uad6c\uc778\uc9c0 \uc5ec\ubd80\uac00 \uc8fc\uc5b4\uc9c8 \ub54c, \ud559\uc0dd\ub4e4\uc744 \uc9dd\uc9c0\uc5b4\uc904 \uc218 \uc788\ub294 \ubc29\ubc95\uc758 \uc218\ub97c \uacc4\uc0b0\ud558\ub294 \ud504\ub85c\uadf8\ub7a8\uc744 \uc791\uc131\ud558\uc138\uc694.  \n",
      "\uc9dd\uc774 \ub418\ub294 \ud559\uc0dd\ub4e4\uc774 \uc77c\ubd80\ub9cc \ub2e4\ub974\ub354\ub77c\ub3c4 \ub2e4\ub978 \ubc29\ubc95\uc774\ub77c\uace0 \ubd05\ub2c8\ub2e4. \uc608\ub97c \ub4e4\uc5b4 \ub2e4\uc74c \ub450 \uac00\uc9c0 \ubc29\ubc95\uc740 \uc11c\ub85c \ub2e4\ub978 \ubc29\ubc95\uc785\ub2c8\ub2e4.  \n",
      "  \n",
      "(\ud0dc\uc5f0,\uc81c\uc2dc\uce74) (\uc368\ub2c8,\ud2f0\ud30c\ub2c8) (\ud6a8\uc5f0,\uc720\ub9ac)  \n",
      "(\ud0dc\uc5f0,\uc81c\uc2dc\uce74) (\uc368\ub2c8,\uc720\ub9ac) (\ud6a8\uc5f0,\ud2f0\ud30c\ub2c8)  \n",
      "  \n",
      "## \uc785\ub825\n",
      "\uc785\ub825\uc758 \uccab \uc904\uc5d0\ub294 \ud14c\uc2a4\ud2b8 \ucf00\uc774\uc2a4\uc758 \uc218 C (C <= 50) \uac00 \uc8fc\uc5b4\uc9d1\ub2c8\ub2e4.  \n",
      "\uac01 \ud14c\uc2a4\ud2b8 \ucf00\uc774\uc2a4\uc758 \uccab \uc904\uc5d0\ub294 \ud559\uc0dd\uc758 \uc218 n (2 <= n <= 10) \uacfc \uce5c\uad6c \uc30d\uc758 \uc218 m (0 <= m <= n*(n-1)/2) \uc774 \uc8fc\uc5b4\uc9d1\ub2c8\ub2e4.  \n",
      "\uadf8 \ub2e4\uc74c \uc904\uc5d0 m \uac1c\uc758 \uc815\uc218 \uc30d\uc73c\ub85c \uc11c\ub85c \uce5c\uad6c\uc778 \ub450 \ud559\uc0dd\uc758 \ubc88\ud638\uac00 \uc8fc\uc5b4\uc9d1\ub2c8\ub2e4. \ubc88\ud638\ub294 \ubaa8\ub450 0 \ubd80\ud130 n-1 \uc0ac\uc774\uc758 \uc815\uc218\uc774\uace0, \uac19\uc740 \uc30d\uc740 \uc785\ub825\uc5d0 \ub450 \ubc88 \uc8fc\uc5b4\uc9c0\uc9c0 \uc54a\uc2b5\ub2c8\ub2e4.  \n",
      "\ud559\uc0dd\ub4e4\uc758 \uc218\ub294 \uc9dd\uc218\uc785\ub2c8\ub2e4.  \n",
      "  \n",
      "## \ucd9c\ub825\n",
      "\uac01 \ud14c\uc2a4\ud2b8 \ucf00\uc774\uc2a4\ub9c8\ub2e4 \ud55c \uc904\uc5d0 \ubaa8\ub4e0 \ud559\uc0dd\uc744 \uce5c\uad6c\ub07c\ub9ac\ub9cc \uc9dd\uc9c0\uc5b4\uc904 \uc218 \uc788\ub294 \ubc29\ubc95\uc758 \uc218\ub97c \ucd9c\ub825\ud569\ub2c8\ub2e4.  \n",
      "  \n",
      "[\ubb38\uc81c \uc6d0\ubcf8 \ubcf4\uae30](https://algospot.com/judge/problem/read/PICNIC)"
     ]
    },
    {
     "cell_type": "markdown",
     "metadata": {},
     "source": [
      "----\n",
      "### \ud14c\uc2a4\ud2b8 \ucf00\uc774\uc2a4\n",
      "\ud559\uc0dd \uc218  : 6 10  \n",
      "\uce5c\uad6c \uc870\ud569 : 10  \n",
      "\uce5c\uad6c \ubaa9\ub85d :  \n",
      "(0, 1) (1, 2) (2, 3) (3, 4) (4, 5)  \n",
      "(0, 2) (1, 3) (2, 4) (3, 5)  \n",
      "........(1, 4)  "
     ]
    },
    {
     "cell_type": "code",
     "collapsed": false,
     "input": [
      "sd1 = 0, 1,\n",
      "sd2 = 1, 0,\n",
      "\n",
      "if sd1 is sd2:\n",
      "    print(\"\uac19\uc74c\")\n",
      "else:\n",
      "    print(\"\ub2e4\ub984\")\n",
      "    \n",
      "# \ud29c\ud50c\uc758 \uc21c\uc11c\uac00 \ub9de\uc544\uc57c \uac19\uc740\uac70\uc784"
     ],
     "language": "python",
     "metadata": {},
     "outputs": [
      {
       "output_type": "stream",
       "stream": "stdout",
       "text": [
        "\ub2e4\ub984\n"
       ]
      }
     ],
     "prompt_number": 2
    },
    {
     "cell_type": "markdown",
     "metadata": {},
     "source": [
      "### \ub098\uc62c \uc218 \uc788\ub294 \uc2e4\uc81c \uc870\ud569 (\ub178\uac00\ub2e4\ub85c \uc77c\ub2e8 \ubfcc\ub824\ubcf4\uae30)\n",
      "(0, 1), (2, 3)  \n",
      "(0, 2), (1, 3)  \n",
      "(0, 3), (1, 2)  \n",
      "\n",
      "### \uc870\ud569\ud560 \uc218 \uc788\ub294 \uc870\uac74\n",
      "- \ud559\uc0dd\uc740 \uc911\ubcf5 \ub420 \uc218 \uc5c6\uc74c\n",
      "- \uce5c\uad6c \uad00\uacc4\uac00 \uc788\ub294 \uc560\ub4e4\ub07c\ub9ac\ub9cc \ud300\uc744 \uad6c\uc131\ud560 \uc218 \uc788\uc74c"
     ]
    },
    {
     "cell_type": "markdown",
     "metadata": {},
     "source": [
      "----\n",
      "\uc804\uccb4 \ud559\uc0dd \uc218\ub97c \uae30\uc900\uc73c\ub85c \ubc18\ubcf5\ud558\uba74..\n",
      "- \uc21c\uc11c \ubcf4\uc7a5\n",
      "- \ub05d\ub098\ub294 \uc2dc\uc810\uc774 \uba85\ud655\n",
      "\n",
      "\uc21c\uc11c\ub300\ub85c \ud559\uc0dd \ud558\ub098\ud558\ub098\ub97c \ubc18\ubcf5\ud558\uba74\uc11c \uc9dd\uc774 \ub420 \uc218 \uc788\ub294 \uc870\ud569\uc744 \ud0d0\uc0c9 \ud55c\ub2e4.  \n",
      "\uadf8\ub9ac\uace0 \uac01 \uacfc\uc815\uc5d0\uc11c \uac80\uc99d\uc744 \uce5c\uad6c \ub9ac\uc2a4\ud2b8\ub85c \ud558\ub294 \uac83!"
     ]
    },
    {
     "cell_type": "code",
     "collapsed": false,
     "input": [
      "peoples = [0, 1, 2, 3, 4, 5]\n",
      "friends = [(0, 1), (0, 2), (1, 2), (1, 3), (1, 4),\n",
      "          (2, 3), (2, 4), (3, 4), (3, 5), (4, 5)]"
     ],
     "language": "python",
     "metadata": {},
     "outputs": [],
     "prompt_number": 20
    },
    {
     "cell_type": "code",
     "collapsed": false,
     "input": [
      "for i, p1 in enumerate(peoples):\n",
      "    for j, p2 in enumerate(peoples[i:]):\n",
      "        for k, p3 in enumerate(peoples[j:]):\n",
      "            pass\n",
      "    "
     ],
     "language": "python",
     "metadata": {},
     "outputs": [],
     "prompt_number": 21
    },
    {
     "cell_type": "code",
     "collapsed": false,
     "input": [
      "def find_friend(peoples, friends, case=0, prev=0):\n",
      "    print(\"People:\", peoples)\n",
      "    for i, current in enumerate(peoples):\n",
      "        next_peoples = peoples[:]\n",
      "        for another in next_peoples:\n",
      "            if another <= current or current < prev:\n",
      "                continue\n",
      "            if (current, another,) in friends:\n",
      "                bind_people = next_peoples[:]\n",
      "                bind_people.remove(current)\n",
      "                bind_people.remove(another)\n",
      "                if bind_people:\n",
      "                    case = find_friend(bind_people, friends, case, current)\n",
      "                else:\n",
      "                    return case+1\n",
      "    return case"
     ],
     "language": "python",
     "metadata": {},
     "outputs": [],
     "prompt_number": 100
    },
    {
     "cell_type": "code",
     "collapsed": false,
     "input": [
      "print(find_friend(peoples, friends))"
     ],
     "language": "python",
     "metadata": {},
     "outputs": [
      {
       "output_type": "stream",
       "stream": "stdout",
       "text": [
        "('People:', [0, 1, 2, 3, 4, 5])\n",
        "('People:', [2, 3, 4, 5])\n",
        "('People:', [4, 5])\n",
        "('People:', [3, 5])\n",
        "('People:', [2, 5])\n",
        "('People:', [2, 4])\n",
        "('People:', [2, 3])\n",
        "('People:', [1, 3, 4, 5])\n",
        "('People:', [4, 5])\n",
        "('People:', [3, 5])\n",
        "('People:', [1, 5])\n",
        "('People:', [1, 4])\n",
        "('People:', [1, 3])\n",
        "('People:', [0, 3, 4, 5])\n",
        "('People:', [0, 5])\n",
        "('People:', [0, 4])\n",
        "('People:', [0, 3])\n",
        "('People:', [0, 2, 4, 5])\n",
        "('People:', [0, 5])\n",
        "('People:', [0, 2])\n",
        "('People:', [0, 2, 3, 5])\n",
        "('People:', [0, 5])\n",
        "('People:', [0, 2])\n",
        "('People:', [0, 1, 4, 5])\n",
        "('People:', [0, 1])\n",
        "('People:', [0, 1, 3, 5])\n",
        "('People:', [0, 1])\n",
        "('People:', [0, 1, 2, 5])\n",
        "('People:', [0, 1, 2, 4])\n",
        "('People:', [0, 1, 2, 3])\n",
        "4\n"
       ]
      }
     ],
     "prompt_number": 101
    },
    {
     "cell_type": "code",
     "collapsed": false,
     "input": [
      "peoples2 = [0, 1, 2, 3]\n",
      "friends2 = [(0, 1), (1, 2), (2, 3), (0, 3), (0, 2), (1, 3)]"
     ],
     "language": "python",
     "metadata": {},
     "outputs": [],
     "prompt_number": 102
    },
    {
     "cell_type": "code",
     "collapsed": false,
     "input": [
      "print(find_friend(peoples2, friends2))"
     ],
     "language": "python",
     "metadata": {},
     "outputs": [
      {
       "output_type": "stream",
       "stream": "stdout",
       "text": [
        "('People:', [0, 1, 2, 3])\n",
        "('People:', [2, 3])\n",
        "('People:', [1, 3])\n",
        "('People:', [1, 2])\n",
        "('People:', [0, 3])\n",
        "('People:', [0, 2])\n",
        "('People:', [0, 1])\n",
        "3\n"
       ]
      }
     ],
     "prompt_number": 103
    },
    {
     "cell_type": "code",
     "collapsed": false,
     "input": [
      "sample_list = [2, 1, 3, 4, 6, 5]\n",
      "print(sample_list[::2])\n",
      "print(sample_list[1::2])\n",
      "\n",
      "print(zip(sample_list[::2], sample_list[1::2]))\n",
      "\n",
      "[tuple(sorted(d)) for d in zip(sample_list[::2], sample_list[1::2])]"
     ],
     "language": "python",
     "metadata": {},
     "outputs": [
      {
       "output_type": "stream",
       "stream": "stdout",
       "text": [
        "[2, 3, 6]\n",
        "[1, 4, 5]\n",
        "[(2, 1), (3, 4), (6, 5)]\n"
       ]
      },
      {
       "metadata": {},
       "output_type": "pyout",
       "prompt_number": 111,
       "text": [
        "[(1, 2), (3, 4), (5, 6)]"
       ]
      }
     ],
     "prompt_number": 111
    },
    {
     "cell_type": "code",
     "collapsed": false,
     "input": [],
     "language": "python",
     "metadata": {},
     "outputs": []
    }
   ],
   "metadata": {}
  }
 ]
}