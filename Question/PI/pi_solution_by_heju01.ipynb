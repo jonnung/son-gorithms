{
 "worksheets": [
  {
   "cells": [
    {
     "cell_type": "code",
     "metadata": {},
     "outputs": [],
     "input": [
      "def sfn1(na, o):\n",
      "    a, b, c = na[o-2], na[o-1], na[o]\n",
      "    if a == b and b == c:\n",
      "        return 1\n",
      "    df = b - a\n",
      "    if df == c - b:\n",
      "        return 2 if abs(df) == 1 else 5\n",
      "    elif a == c:\n",
      "        return 4\n",
      "    return 10"
     ],
     "language": "python",
     "prompt_number": 1
    },
    {
     "cell_type": "code",
     "metadata": {},
     "outputs": [],
     "input": [
      "def sfn2(na, o):\n",
      "    a, b, c, d = na[o-3], na[o-2], na[o-1], na[o]\n",
      "    print(a, b, c, d)\n",
      "    if a == b and b == c and c == d:\n",
      "        return 1\n",
      "    df = b - a\n",
      "    if df == c - b and df == d - c:\n",
      "        return 2 if abs(df) == 1 else 5\n",
      "    elif a == c and b == d:\n",
      "        return 4\n",
      "    return 10"
     ],
     "language": "python",
     "prompt_number": 29
    },
    {
     "cell_type": "code",
     "metadata": {},
     "outputs": [],
     "input": [
      "def sfn3(na, o):\n",
      "    a, b, c, d, e = na[o-4], na[o-3], na[o-2], na[o-1], na[o]\n",
      "    print (a, b, c, d, e)\n",
      "    if a == b and b == c and c == d and d == e:\n",
      "        return 1\n",
      "    df = b - a\n",
      "    if df == c - b and df == d - c and df == e - d:\n",
      "        return 2 if abs(df) == 1 else 5\n",
      "    elif a == c and b == d and c == e:\n",
      "        return 4\n",
      "    return 10"
     ],
     "language": "python",
     "prompt_number": 30
    },
    {
     "cell_type": "code",
     "metadata": {},
     "outputs": [],
     "input": [
      "def score(na):\n",
      "    ln = len(na)\n",
      "    msa = [0] * (ln+2)\n",
      "    i = 0\n",
      "    mn = 10 * 100000\n",
      "    while i < ln:\n",
      "        ms = mn\n",
      "        if i < 2:\n",
      "            msa[i] = 10\n",
      "        else:\n",
      "            print(\"i: \", i)\n",
      "            for fi, sf in enumerate([sfn1, sfn2, sfn3]):\n",
      "                print(\"fi:\", fi, \" |  sf:\", sf)\n",
      "                s = sf(na, i)\n",
      "                if msa[i-fi-3] + s < ms:\n",
      "                    ms = msa[i-fi-3] + s\n",
      "            msa[i] = ms\n",
      "        i += 1\n",
      "    return msa[-3]"
     ],
     "language": "python",
     "prompt_number": 31
    },
    {
     "cell_type": "code",
     "metadata": {},
     "outputs": [],
     "input": [
      "# for c in xrange(int(raw_input())):\n",
      "#     t = [int(v) for v in list(raw_input())]\n",
      "#     print score([int(i) for i in list(t)])"
     ],
     "language": "python",
     "prompt_number": 32
    },
    {
     "cell_type": "code",
     "metadata": {},
     "outputs": [
      {
       "output_type": "stream",
       "stream": "stdout",
       "text": [
        "('i: ', 2)\n",
        "('fi:', 0, ' |  sf:', <function sfn1 at 0x106572aa0>)\n",
        "('fi:', 1, ' |  sf:', <function sfn2 at 0x106572b18>)\n",
        "(3, 1, 2, 3)\n",
        "('fi:', 2, ' |  sf:', <function sfn3 at 0x106572c08>)\n",
        "(2, 3, 1, 2, 3)\n"
       ]
      },
      {
       "output_type": "pyout",
       "prompt_number": 33,
       "text": [
        "2"
       ],
       "metadata": {}
      }
     ],
     "input": [
      "score([1, 2, 3])"
     ],
     "language": "python",
     "prompt_number": 33
    },
    {
     "cell_type": "code",
     "metadata": {},
     "outputs": [
      {
       "output_type": "stream",
       "stream": "stdout",
       "text": [
        "(2, 3, 1, 2, 3)\n"
       ]
      },
      {
       "output_type": "pyout",
       "prompt_number": 34,
       "text": [
        "10"
       ],
       "metadata": {}
      }
     ],
     "input": [
      "sfn3([1, 2, 3], 2)"
     ],
     "language": "python",
     "prompt_number": 34
    },
    {
     "cell_type": "code",
     "metadata": {},
     "outputs": [
      {
       "output_type": "stream",
       "stream": "stdout",
       "text": [
        "(3, 1, 2, 3)\n"
       ]
      },
      {
       "output_type": "pyout",
       "prompt_number": 35,
       "text": [
        "10"
       ],
       "metadata": {}
      }
     ],
     "input": [
      "sfn2([1, 2, 3], 2)"
     ],
     "language": "python",
     "prompt_number": 35
    },
    {
     "cell_type": "code",
     "metadata": {},
     "outputs": [
      {
       "output_type": "pyout",
       "prompt_number": 36,
       "text": [
        "2"
       ],
       "metadata": {}
      }
     ],
     "input": [
      "sfn1([1, 2, 3], 2)"
     ],
     "language": "python",
     "prompt_number": 36
    },
    {
     "cell_type": "code",
     "metadata": {},
     "outputs": [
      {
       "output_type": "pyout",
       "prompt_number": 38,
       "text": [
        "[0, 0, 0, 0, 0, 0, 0, 0, 0, 0]"
       ],
       "metadata": {}
      }
     ],
     "input": [
      "[0] * 10"
     ],
     "language": "python",
     "prompt_number": 38
    },
    {
     "cell_type": "code",
     "metadata": {},
     "outputs": [
      {
       "output_type": "pyout",
       "prompt_number": 39,
       "text": [
        "[0, 0, 0]"
       ],
       "metadata": {}
      }
     ],
     "input": [
      "[0] * len([1,2,3])"
     ],
     "language": "python",
     "prompt_number": 39
    },
    {
     "cell_type": "code",
     "metadata": {},
     "outputs": [],
     "input": [
      ""
     ],
     "language": "python"
    }
   ]
  }
 ],
 "cells": [],
 "metadata": {
  "name": "",
  "signature": "sha256:989fd116395f1437e18fe7ce18460ed3aba4f8d84685b8ee39c31a0a0a75da75"
 },
 "nbformat": 3,
 "nbformat_minor": 0
}