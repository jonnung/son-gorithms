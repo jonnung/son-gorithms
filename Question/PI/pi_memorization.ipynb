{
 "metadata": {
  "name": "",
  "signature": "sha256:5a726cc6e1d3918d7dbd0bfd2582f1e89e6ffabdedd0d154fac127755f4fa9ed"
 },
 "nbformat": 3,
 "nbformat_minor": 0,
 "worksheets": [
  {
   "cells": [
    {
     "cell_type": "markdown",
     "metadata": {},
     "source": [
      "\uac01 \uc870\uac01\ub4e4\uc758 \ub09c\uc774\ub3c4\ub294 \ub2e4\uc74c\uacfc \uac19\uc774 \uc815\ud574\uc9d1\ub2c8\ub2e4:  \n",
      "\n",
      "- \ubaa8\ub4e0 \uc22b\uc790\uac00 \uac19\uc744 \ub54c (\uc608: 333, 5555) \ub09c\uc774\ub3c4: 1\n",
      "- \uc22b\uc790\uac00 1\uc529 \ub2e8\uc870 \uc99d\uac00\ud558\uac70\ub098 \ub2e8\uc870 \uac10\uc18c\ud560 \ub54c (\uc608: 23456, 3210) \ub09c\uc774\ub3c4: 2\n",
      "- \ub450 \uac1c\uc758 \uc22b\uc790\uac00 \ubc88\uac08\uc544 \uac00\uba70 \ucd9c\ud604\ud560 \ub54c (\uc608: 323, 54545) \ub09c\uc774\ub3c4: 4\n",
      "- \uc22b\uc790\uac00 \ub4f1\ucc28 \uc218\uc5f4\uc744 \uc774\ub8f0 \ub54c (\uc608: 147, 8642) \ub09c\uc774\ub3c4: 5\n",
      "- \uadf8 \uc678\uc758 \uacbd\uc6b0 \ub09c\uc774\ub3c4: 10\n",
      "\n",
      "\ub09c\uc774\ub3c4\uc758 \ud569\uc744 \ucd5c\uc18c\ud654 \ud558\ub3c4\ub85d 3~5\uc790\ub9ac\ub85c \ub04a\uc5b4\uc11c \uc77d\uace0 \uc2f6\uc74c  \n",
      "\uc785\ub825\uc758 \uccab \uc904\uc5d0\ub294 \ud14c\uc2a4\ud2b8 \ucf00\uc774\uc2a4\uc758 \uc218 C (<= 50) \uac00 \uc8fc\uc5b4\uc9d0  \n",
      "\uac01 \ud14c\uc2a4\ud2b8 \ucf00\uc774\uc2a4\ub294 8\uae00\uc790 \uc774\uc0c1 10000\uae00\uc790 \uc774\ud558\uc758 \uc22b\uc790\ub85c \uc8fc\uc5b4\uc9d0  \n",
      "\n",
      "\uac01 \ud14c\uc2a4\ud2b8 \ucf00\uc774\uc2a4\ub9c8\ub2e4 \ud55c \uc904\uc5d0 \ucd5c\uc18c\uc758 \ub09c\uc774\ub3c4\ub97c \uad6c\ud558\ub77c!  \n",
      "\n",
      "[\uc0d8\ud50c Input]\n",
      "```\n",
      "5 \n",
      "12341234 \n",
      "11111222 \n",
      "12122222 \n",
      "22222222 \n",
      "12673939\n",
      "```\n",
      "\n",
      "[\uc0d8\ud50c Output]\n",
      "```\n",
      "4\n",
      "2\n",
      "5\n",
      "2\n",
      "14\n",
      "```"
     ]
    },
    {
     "cell_type": "markdown",
     "metadata": {},
     "source": [
      "----\n",
      "# _\ub09c\uc774\ub3c4 \uacc4\uc0b0 \ud568\uc218_\n",
      "### 1. \uc22b\uc790 \uac19\uc74c (\ub09c\uc774\ub3c4: 1)"
     ]
    },
    {
     "cell_type": "code",
     "collapsed": false,
     "input": [
      "def is_level1(numbers):\n",
      "    return numbers == tuple(len(numbers) * [numbers[0]])"
     ],
     "language": "python",
     "metadata": {},
     "outputs": [],
     "prompt_number": 1
    },
    {
     "cell_type": "code",
     "collapsed": false,
     "input": [
      "print(is_level1((1, 1, 1, 1, 1)))"
     ],
     "language": "python",
     "metadata": {},
     "outputs": [
      {
       "output_type": "stream",
       "stream": "stdout",
       "text": [
        "True\n"
       ]
      }
     ],
     "prompt_number": 3
    },
    {
     "cell_type": "markdown",
     "metadata": {},
     "source": [
      "### 2. 1\uc529 \ub2e8\uc870 \uc99d\uac10 (\ub09c\uc774\ub3c4: 2)"
     ]
    },
    {
     "cell_type": "code",
     "collapsed": false,
     "input": [
      "def is_level2(l):\n",
      "    t = zip(l, l[1:])\n",
      "    return all(x + 1 == y for x, y in t) or all(x - 1 == y for x, y in t)"
     ],
     "language": "python",
     "metadata": {},
     "outputs": [],
     "prompt_number": 4
    },
    {
     "cell_type": "markdown",
     "metadata": {},
     "source": [
      "### 3. \ubc88\uac08\uc544\uac00\uba70 \ubc18\ubcf5 (\ub09c\uc774\ub3c4: 4)"
     ]
    },
    {
     "cell_type": "code",
     "collapsed": false,
     "input": [
      "def is_level4(l):\n",
      "    return is_level1(l[::2]) and is_level1(l[1::2])"
     ],
     "language": "python",
     "metadata": {},
     "outputs": [],
     "prompt_number": 5
    },
    {
     "cell_type": "markdown",
     "metadata": {},
     "source": [
      "### 4. \ub4f1\ucc28\uc218\uc5f4 (\ub09c\uc774\ub3c4: 5)"
     ]
    },
    {
     "cell_type": "code",
     "collapsed": false,
     "input": [
      "def is_level5(l):\n",
      "    d = l[0] - l[1]\n",
      "    return all(x - y == d for x, y in zip(l, l[1:]))"
     ],
     "language": "python",
     "metadata": {},
     "outputs": [],
     "prompt_number": 7
    },
    {
     "cell_type": "code",
     "collapsed": false,
     "input": [
      "# \uc6d0\uc8fc\uc728 \uc77c\ubd80\n",
      "string = \"762135712120000022123457891357912120000022123\"\n",
      "\n",
      "std_input = [int(i) for i in string]\n",
      "\n",
      "print(len(string))\n",
      "print(input)\n",
      "# print(input[5:5+3])\n",
      "slice_list = [5, 4, 3]"
     ],
     "language": "python",
     "metadata": {},
     "outputs": [
      {
       "output_type": "stream",
       "stream": "stdout",
       "text": [
        "8\n",
        "[7, 6, 2, 1, 3, 5, 7, 1, 2, 1, 2, 0, 0, 0, 0, 0, 2, 2, 1, 2, 3, 4, 5, 7, 8, 9, 1, 3, 5, 7, 9, 1, 2, 1, 2, 0, 0, 0, 0, 0, 2, 2, 1, 2, 3]\n"
       ]
      }
     ],
     "prompt_number": 53
    },
    {
     "cell_type": "code",
     "collapsed": false,
     "input": [
      "start = 0\n",
      "end = None\n",
      "last_seq = len(std_input)-1\n",
      "\n",
      "cache = {}\n",
      "min_level = 0\n",
      "\n",
      "limit = 0\n",
      "\n",
      "while True:\n",
      "    max_end = 0\n",
      "    level = 0\n",
      "    level_acc = {\n",
      "        3: 10,\n",
      "        4: 10,\n",
      "        5: 10\n",
      "    }\n",
      "\n",
      "    for step in slice_list:\n",
      "        end = start + step\n",
      "        \n",
      "        # print(\"\\n\\n===========================\")\n",
      "        # print(\"Start: %d | End: %d\" % (start, end,))\n",
      "        # print(\"---------------------------\")\n",
      "        \n",
      "        # last_seq == 7\n",
      "        if (last_seq+1) - end >= 3 or (last_seq+1) - end == 0:\n",
      "            read = tuple(input[start:end])\n",
      "            \n",
      "            # print(tuple(input[start:end]))\n",
      "            \n",
      "            if read in cache:\n",
      "                level = cache[read]\n",
      "            elif is_level1(read):\n",
      "                level = 1\n",
      "            elif is_level2(read):\n",
      "                level = 2\n",
      "            elif is_level4(read):\n",
      "                level = 4\n",
      "            elif is_level5(read):\n",
      "                level = 5\n",
      "            else:\n",
      "                level = 10\n",
      "        \n",
      "            # print(\"Level: %d \" % level)\n",
      "            cache[read] = level\n",
      "        else:\n",
      "            # print(\">> Pass End: %d\" % end)\n",
      "            continue\n",
      "        level_acc[step] = level\n",
      "\n",
      "    min_val = min(level_acc.values())\n",
      "    min_level += min_val\n",
      "    start = start + min([int(x) for x, y in level_acc.items() if y == min_val])\n",
      "    \n",
      "    limit += 1\n",
      "\n",
      "    if end >= (last_seq+1):\n",
      "        break\n",
      "    if limit == 100:\n",
      "        break\n",
      "\n",
      "print(\"///////////////////////////\")\n",
      "print(min_level)"
     ],
     "language": "python",
     "metadata": {},
     "outputs": [
      {
       "output_type": "stream",
       "stream": "stdout",
       "text": [
        "///////////////////////////\n",
        "30\n"
       ]
      }
     ],
     "prompt_number": 55
    },
    {
     "cell_type": "heading",
     "level": 2,
     "metadata": {},
     "source": [
      "\ubb34\uc870\uac74 \ud070 \uc870\uac01\uc73c\ub85c \uc790\ub974\ub294 \ubc84\uc804"
     ]
    },
    {
     "cell_type": "code",
     "collapsed": false,
     "input": [
      "partial_pi = input\n",
      "start = 0\n",
      "end = None\n",
      "last_seq = len(std_input)-1\n",
      "min_level = 0\n",
      "\n",
      "while True:\n",
      "    max_end = 0\n",
      "    level = 0\n",
      "\n",
      "    for step in slice_list:\n",
      "        end = start + step\n",
      "        \n",
      "        # print(\"\\n\\n===========================\")\n",
      "        # print(\"Start: %d | End: %d\" % (start, end,))\n",
      "        # print(\"---------------------------\")\n",
      "\n",
      "        if (last_seq+1) - end >= 3 or (last_seq+1) - end == 0:\n",
      "            read = tuple(partial_pi[start:end])\n",
      "            \n",
      "            # print(tuple(input[start:end]))\n",
      "\n",
      "            if read in cache:\n",
      "                level = cache[read]\n",
      "            elif is_level1(read):\n",
      "                level = 1\n",
      "            elif is_level2(read):\n",
      "                level = 2\n",
      "            elif is_level4(read):\n",
      "                level = 4\n",
      "            elif is_level5(read):\n",
      "                level = 5\n",
      "            else:\n",
      "                level = 10\n",
      "\n",
      "            if level < 10:\n",
      "                max_end = end\n",
      "                break\n",
      "            else:\n",
      "                if end > max_end:\n",
      "                    max_end = end\n",
      "            # print(\"Level: %d \" % level)        \n",
      "            cache[read] = level\n",
      "        else:\n",
      "            end = max_end\n",
      "            # print(\">> Pass End: %d\" % end)\n",
      "            continue\n",
      "\n",
      "    min_level += level\n",
      "    start = max_end\n",
      "\n",
      "    if end >= (last_seq+1):\n",
      "        break\n",
      "\n",
      "print(min_level)"
     ],
     "language": "python",
     "metadata": {},
     "outputs": [
      {
       "output_type": "stream",
       "stream": "stdout",
       "text": [
        "20\n"
       ]
      }
     ],
     "prompt_number": 56
    },
    {
     "cell_type": "markdown",
     "metadata": {},
     "source": [
      "\ub290\ub08c\uc801\uc778 \ub290\ub08c\uc73c\ub85c!!  \n",
      "*\ub808\ubca8\uc774 10\uc77c\ub54c\ub294 \uac00\uc7a5 \uc791\uac8c \ucabc\uac1c\uace0*   \n",
      "*\ub808\ubca8\uc774 10\ubcf4\ub2e4 \uc791\uc744 \ub54c\ub294 \uac00\uc7a5 \ud06c\uac8c \ucabc\uac1c\uba74?*  "
     ]
    },
    {
     "cell_type": "heading",
     "level": 2,
     "metadata": {},
     "source": [
      "\ub808\ubca8 10 \ubcf4\ub2e4 \uc791\uc744 \ub54c \uac00\uc7a5 \ud06c\uac8c \ucabc\uac1c\uace0, 10\uc774\uba74 \uac00\uc7a5 \uc791\uac8c \ucabc\uac1c\ub294 \ubc84\uc804"
     ]
    },
    {
     "cell_type": "code",
     "collapsed": false,
     "input": [
      "string = \"12673939\"\n",
      "partial_pi = [int(i) for i in string]\n",
      "\n",
      "start = 0\n",
      "end = None\n",
      "last_seq = len(partial_pi)-1\n",
      "total_level = 0\n",
      "\n",
      "while True:\n",
      "    max_end = 0\n",
      "    level = 0\n",
      "    step_by_level = {\n",
      "        3: 0,\n",
      "        4: 0,\n",
      "        5: 0        \n",
      "    }\n",
      "\n",
      "    for step in slice_list:\n",
      "        end = start + step\n",
      "        \n",
      "        print(\"---------------------------\")\n",
      "        print(\"Start: %d | End: %d\" % (start, end,))        \n",
      "\n",
      "        if (last_seq+1) - end >= 3 or (last_seq+1) - end == 0:\n",
      "            read = tuple(partial_pi[start:end])\n",
      "            \n",
      "            # print(tuple(input[start:end]))\n",
      "\n",
      "            if read in cache:\n",
      "                level = cache[read]\n",
      "            elif is_level1(read):\n",
      "                level = 1\n",
      "            elif is_level2(read):\n",
      "                level = 2\n",
      "            elif is_level4(read):\n",
      "                level = 4\n",
      "            elif is_level5(read):\n",
      "                level = 5\n",
      "            else:\n",
      "                level = 10\n",
      "\n",
      "            step_by_level[step] = level        \n",
      "            cache[read] = level\n",
      "        else:\n",
      "            continue\n",
      "    filter_level = dict((k, v) for k, v in step_by_level.items() if v > 0)    \n",
      "    min_level = min(filter_level.values())\n",
      "    \n",
      "    # min_level = min(step_by_level.values())\n",
      "    \n",
      "    print(\"---------------------------\")\n",
      "    print(\"Min level: %d \" % min_level)\n",
      "    print(\"Step by level: \\n [3] => %d, [4] => %d, [5] => %d\" % tuple([int(v) for s, v in step_by_level.items()]))\n",
      "    \n",
      "    if min_level < 10:\n",
      "        consider_step = max([int(s) for s, v in step_by_level.items() if v == min_level])\n",
      "    else:\n",
      "        consider_step = min(filter_level.keys())\n",
      "\n",
      "    print(\"Consider step: %d \" % consider_step)\n",
      "    print(\"Slice values: %r\" % partial_pi[start:start+consider_step])\n",
      "    print(\"===========================\")    \n",
      "\n",
      "    total_level += min_level\n",
      "    start = start + consider_step\n",
      "\n",
      "    if start >= (last_seq+1):\n",
      "        break\n",
      "\n",
      "print(total_level)"
     ],
     "language": "python",
     "metadata": {},
     "outputs": [
      {
       "output_type": "stream",
       "stream": "stdout",
       "text": [
        "---------------------------\n",
        "Start: 0 | End: 5\n",
        "---------------------------\n",
        "Start: 0 | End: 4\n",
        "---------------------------\n",
        "Start: 0 | End: 3\n",
        "---------------------------\n",
        "Min level: 10 \n",
        "Step by level: \n",
        " [3] => 10, [4] => 10, [5] => 10\n",
        "Consider step: 3 \n",
        "Slice values: [1, 2, 6]\n",
        "===========================\n",
        "---------------------------\n",
        "Start: 3 | End: 8\n",
        "---------------------------\n",
        "Start: 3 | End: 7\n",
        "---------------------------\n",
        "Start: 3 | End: 6\n",
        "---------------------------\n",
        "Min level: 10 \n",
        "Step by level: \n",
        " [3] => 0, [4] => 0, [5] => 10\n",
        "Consider step: 5 \n",
        "Slice values: [7, 3, 9, 3, 9]\n",
        "===========================\n",
        "20\n"
       ]
      }
     ],
     "prompt_number": 66
    },
    {
     "cell_type": "heading",
     "level": 2,
     "metadata": {},
     "source": [
      "\ud604\uc7ac \ucabc\uac20 \uc22b\uc790\ub4e4\uc758 \ub808\ubca8\uc744 \uce21\uc815\ud558\uace0 \uadf8 \ub2e4\uc74c\uc5d0 \uc790\ub97c \uc218 \uc788\ub294 \uc22b\uc790\ub4e4\uc758 \ub808\ubca8\ub3c4 \uace0\ub824\ud558\uae30"
     ]
    },
    {
     "cell_type": "code",
     "collapsed": false,
     "input": [],
     "language": "python",
     "metadata": {},
     "outputs": []
    }
   ],
   "metadata": {}
  }
 ]
}