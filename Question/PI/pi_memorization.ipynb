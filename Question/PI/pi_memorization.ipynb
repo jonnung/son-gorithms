{
 "metadata": {
  "name": "",
  "signature": "sha256:b2d20594409561d8b3c08575117f999c366c12218e6a5757218ccc05c9ee4184"
 },
 "nbformat": 3,
 "nbformat_minor": 0,
 "worksheets": [
  {
   "cells": [
    {
     "cell_type": "markdown",
     "metadata": {},
     "source": [
      "\uac01 \uc870\uac01\ub4e4\uc758 \ub09c\uc774\ub3c4\ub294 \ub2e4\uc74c\uacfc \uac19\uc774 \uc815\ud574\uc9d1\ub2c8\ub2e4:  \n",
      "\n",
      "- \ubaa8\ub4e0 \uc22b\uc790\uac00 \uac19\uc744 \ub54c (\uc608: 333, 5555) \ub09c\uc774\ub3c4: 1\n",
      "- \uc22b\uc790\uac00 1\uc529 \ub2e8\uc870 \uc99d\uac00\ud558\uac70\ub098 \ub2e8\uc870 \uac10\uc18c\ud560 \ub54c (\uc608: 23456, 3210) \ub09c\uc774\ub3c4: 2\n",
      "- \ub450 \uac1c\uc758 \uc22b\uc790\uac00 \ubc88\uac08\uc544 \uac00\uba70 \ucd9c\ud604\ud560 \ub54c (\uc608: 323, 54545) \ub09c\uc774\ub3c4: 4\n",
      "- \uc22b\uc790\uac00 \ub4f1\ucc28 \uc218\uc5f4\uc744 \uc774\ub8f0 \ub54c (\uc608: 147, 8642) \ub09c\uc774\ub3c4: 5\n",
      "- \uadf8 \uc678\uc758 \uacbd\uc6b0 \ub09c\uc774\ub3c4: 10\n",
      "\n",
      "\ub09c\uc774\ub3c4\uc758 \ud569\uc744 \ucd5c\uc18c\ud654 \ud558\ub3c4\ub85d 3~5\uc790\ub9ac\ub85c \ub04a\uc5b4\uc11c \uc77d\uace0 \uc2f6\uc74c  \n",
      "\uc785\ub825\uc758 \uccab \uc904\uc5d0\ub294 \ud14c\uc2a4\ud2b8 \ucf00\uc774\uc2a4\uc758 \uc218 C (<= 50) \uac00 \uc8fc\uc5b4\uc9d0  \n",
      "\uac01 \ud14c\uc2a4\ud2b8 \ucf00\uc774\uc2a4\ub294 8\uae00\uc790 \uc774\uc0c1 10000\uae00\uc790 \uc774\ud558\uc758 \uc22b\uc790\ub85c \uc8fc\uc5b4\uc9d0  \n",
      "\n",
      "\uac01 \ud14c\uc2a4\ud2b8 \ucf00\uc774\uc2a4\ub9c8\ub2e4 \ud55c \uc904\uc5d0 \ucd5c\uc18c\uc758 \ub09c\uc774\ub3c4\ub97c \uad6c\ud558\ub77c!  \n",
      "\n",
      "[\uc0d8\ud50c Input]\n",
      "```\n",
      "5 \n",
      "12341234 \n",
      "11111222 \n",
      "12122222 \n",
      "22222222 \n",
      "12673939\n",
      "```\n",
      "\n",
      "[\uc0d8\ud50c Output]\n",
      "```\n",
      "4\n",
      "2\n",
      "5\n",
      "2\n",
      "14\n",
      "```"
     ]
    },
    {
     "cell_type": "markdown",
     "metadata": {},
     "source": [
      "----\n",
      "# _\ub09c\uc774\ub3c4 \uacc4\uc0b0 \ud568\uc218_\n",
      "### 1. \uc22b\uc790 \uac19\uc74c (\ub09c\uc774\ub3c4: 1)"
     ]
    },
    {
     "cell_type": "code",
     "collapsed": false,
     "input": [
      "def is_level1(numbers):\n",
      "    return numbers == tuple(len(numbers) * [numbers[0]])"
     ],
     "language": "python",
     "metadata": {},
     "outputs": [],
     "prompt_number": 7
    },
    {
     "cell_type": "code",
     "collapsed": false,
     "input": [
      "print(is_level1((1, 1, 1, 1, 1)))\n",
      "print(is_level5([1, 1, 1, 1, 1]))"
     ],
     "language": "python",
     "metadata": {},
     "outputs": [
      {
       "output_type": "stream",
       "stream": "stdout",
       "text": [
        "True\n"
       ]
      },
      {
       "ename": "NameError",
       "evalue": "name 'is_level5' is not defined",
       "output_type": "pyerr",
       "traceback": [
        "\u001b[0;31m---------------------------------------------------------------------------\u001b[0m\n\u001b[0;31mNameError\u001b[0m                                 Traceback (most recent call last)",
        "\u001b[0;32m<ipython-input-8-cbab163897f5>\u001b[0m in \u001b[0;36m<module>\u001b[0;34m()\u001b[0m\n\u001b[1;32m      1\u001b[0m \u001b[0;32mprint\u001b[0m\u001b[0;34m(\u001b[0m\u001b[0mis_level1\u001b[0m\u001b[0;34m(\u001b[0m\u001b[0;34m(\u001b[0m\u001b[0;36m1\u001b[0m\u001b[0;34m,\u001b[0m \u001b[0;36m1\u001b[0m\u001b[0;34m,\u001b[0m \u001b[0;36m1\u001b[0m\u001b[0;34m,\u001b[0m \u001b[0;36m1\u001b[0m\u001b[0;34m,\u001b[0m \u001b[0;36m1\u001b[0m\u001b[0;34m)\u001b[0m\u001b[0;34m)\u001b[0m\u001b[0;34m)\u001b[0m\u001b[0;34m\u001b[0m\u001b[0m\n\u001b[0;32m----> 2\u001b[0;31m \u001b[0;32mprint\u001b[0m\u001b[0;34m(\u001b[0m\u001b[0mis_level5\u001b[0m\u001b[0;34m(\u001b[0m\u001b[0;34m[\u001b[0m\u001b[0;36m1\u001b[0m\u001b[0;34m,\u001b[0m \u001b[0;36m1\u001b[0m\u001b[0;34m,\u001b[0m \u001b[0;36m1\u001b[0m\u001b[0;34m,\u001b[0m \u001b[0;36m1\u001b[0m\u001b[0;34m,\u001b[0m \u001b[0;36m1\u001b[0m\u001b[0;34m]\u001b[0m\u001b[0;34m)\u001b[0m\u001b[0;34m)\u001b[0m\u001b[0;34m\u001b[0m\u001b[0m\n\u001b[0m",
        "\u001b[0;31mNameError\u001b[0m: name 'is_level5' is not defined"
       ]
      }
     ],
     "prompt_number": 8
    },
    {
     "cell_type": "markdown",
     "metadata": {},
     "source": [
      "### 2. 1\uc529 \ub2e8\uc870 \uc99d\uac10 (\ub09c\uc774\ub3c4: 2)"
     ]
    },
    {
     "cell_type": "code",
     "collapsed": false,
     "input": [
      "def is_level2(l):\n",
      "    t = zip(l, l[1:])\n",
      "    return all(x + 1 == y for x, y in t) or all(x - 1 == y for x, y in t)"
     ],
     "language": "python",
     "metadata": {},
     "outputs": [],
     "prompt_number": 9
    },
    {
     "cell_type": "markdown",
     "metadata": {},
     "source": [
      "### 3. \ubc88\uac08\uc544\uac00\uba70 \ubc18\ubcf5 (\ub09c\uc774\ub3c4: 4)"
     ]
    },
    {
     "cell_type": "code",
     "collapsed": false,
     "input": [
      "def is_level4(l):\n",
      "    return is_level1(l[::2]) and is_level1(l[1::2])"
     ],
     "language": "python",
     "metadata": {},
     "outputs": [],
     "prompt_number": 10
    },
    {
     "cell_type": "markdown",
     "metadata": {},
     "source": [
      "### 4. \ub4f1\ucc28\uc218\uc5f4 (\ub09c\uc774\ub3c4: 5)"
     ]
    },
    {
     "cell_type": "code",
     "collapsed": false,
     "input": [
      "def is_level5(l):\n",
      "    d = l[0] - l[1]\n",
      "    return all(x - y == d for x, y in zip(l, l[1:]))"
     ],
     "language": "python",
     "metadata": {},
     "outputs": [],
     "prompt_number": 11
    },
    {
     "cell_type": "code",
     "collapsed": false,
     "input": [
      "# \uc6d0\uc8fc\uc728 \uc77c\ubd80\n",
      "input = [1,2,6,7,3,9,3,9]\n",
      "input = [1,2,6,7,3,9,3]\n",
      "input = [1,1,1,1,2,2,2]\n",
      "print(input[5:5+3])\n",
      "\n",
      "slice_list = [5, 4, 3]"
     ],
     "language": "python",
     "metadata": {},
     "outputs": [
      {
       "output_type": "stream",
       "stream": "stdout",
       "text": [
        "[2, 2]\n"
       ]
      }
     ],
     "prompt_number": 13
    },
    {
     "cell_type": "code",
     "collapsed": false,
     "input": [
      "start = 0\n",
      "end = None\n",
      "last_seq = len(input)-1\n",
      "\n",
      "cache = {}\n",
      "min_level = 0\n",
      "\n",
      "limit = 0\n",
      "\n",
      "while True:\n",
      "    level = 0\n",
      "    \n",
      "    for step in slice_list:\n",
      "        end = start + step\n",
      "        \n",
      "        print(\"\\n\\n===========================\")\n",
      "        print(\"Start: %d | End: %d\" % (start, end,))\n",
      "        print(\"---------------------------\")\n",
      "        \n",
      "        # last_seq == 7\n",
      "        if (last_seq+1) - end >= 3 or (last_seq+1) - end == 0:\n",
      "            read = tuple(input[start:end])\n",
      "            \n",
      "            print(tuple(input[start:end]))\n",
      "            \n",
      "            if read in cache:\n",
      "                level = cache[read]\n",
      "            elif is_level1(read):\n",
      "                level = 1\n",
      "            elif is_level2(read):\n",
      "                level = 2\n",
      "            elif is_level4(read):\n",
      "                level = 4\n",
      "            elif is_level5(read):\n",
      "                level = 5\n",
      "            else:\n",
      "                level = 10\n",
      "        \n",
      "            print(\"Level: %d \" % level)\n",
      "            \n",
      "            if level < 10:\n",
      "                if read not in cache:\n",
      "                    cache[read] = level\n",
      "                max_end = end\n",
      "                break\n",
      "            else:\n",
      "                print(\"End : %d\" % end)\n",
      "                print(\"Max end: %d\" % max_end)\n",
      "                if end > max_end:\n",
      "                    max_end = end\n",
      "        else:\n",
      "            print(\">> Pass End: %d\" % end)\n",
      "            end = max_end\n",
      "            continue\n",
      "\n",
      "    min_level += level\n",
      "    start = max_end\n",
      "    \n",
      "    limit += 1\n",
      "\n",
      "    if end >= (last_seq+1):\n",
      "        break\n",
      "    if limit == 100:\n",
      "        break\n",
      "\n",
      "print(\"///////////////////////////\")\n",
      "print(min_level)"
     ],
     "language": "python",
     "metadata": {},
     "outputs": [
      {
       "output_type": "stream",
       "stream": "stdout",
       "text": [
        "\n",
        "\n",
        "===========================\n",
        "Start: 0 | End: 5\n",
        "---------------------------\n",
        ">> Pass End: 5\n",
        "\n",
        "\n",
        "===========================\n",
        "Start: 0 | End: 4\n",
        "---------------------------\n",
        "(1, 1, 1, 1)\n",
        "Level: 1 \n",
        "\n",
        "\n",
        "===========================\n",
        "Start: 4 | End: 9\n",
        "---------------------------\n",
        ">> Pass End: 9\n",
        "\n",
        "\n",
        "===========================\n",
        "Start: 4 | End: 8\n",
        "---------------------------\n",
        ">> Pass End: 8\n",
        "\n",
        "\n",
        "===========================\n",
        "Start: 4 | End: 7\n",
        "---------------------------\n",
        "(2, 2, 2)\n",
        "Level: 1 \n",
        "///////////////////////////\n",
        "2\n"
       ]
      }
     ],
     "prompt_number": 16
    },
    {
     "cell_type": "markdown",
     "metadata": {},
     "source": [
      "### 1,1,1,1,1,     2,3,4,5 , 1, 2, 3,  5, 5, 5, 5, 5"
     ]
    },
    {
     "cell_type": "code",
     "collapsed": false,
     "input": [
      "tt = {(1, 2, 3): int(2), (2, 2, 2): int(1)}"
     ],
     "language": "python",
     "metadata": {},
     "outputs": [],
     "prompt_number": 151
    },
    {
     "cell_type": "code",
     "collapsed": false,
     "input": [
      "tt[(1,2,3)]"
     ],
     "language": "python",
     "metadata": {},
     "outputs": [
      {
       "metadata": {},
       "output_type": "pyout",
       "prompt_number": 38,
       "text": [
        "2"
       ]
      }
     ],
     "prompt_number": 38
    },
    {
     "cell_type": "code",
     "collapsed": false,
     "input": [
      "if (3, 2, 3) in tt:\n",
      "    print('T')\n",
      "else:\n",
      "    print('F')"
     ],
     "language": "python",
     "metadata": {},
     "outputs": [
      {
       "output_type": "stream",
       "stream": "stdout",
       "text": [
        "F\n"
       ]
      }
     ],
     "prompt_number": 40
    },
    {
     "cell_type": "code",
     "collapsed": false,
     "input": [
      "14159265358979323846264338327950288419716939937510\n",
      "58209749445923078164062862089986280348253421170679\n",
      "82148086513282306647093844609550582231725359408128\n",
      "4811174502841027019385211055564462294895493038196\n",
      "4428109756659334461284756482337867831652712019091\n",
      "45648566923460348610454326648213393607260249141273\n",
      "72458700660631558817488152092096282925409171536436\n",
      "7892903600113305305488204665213841469519415116094\n",
      "330572703657595919530921861173819361179105118548 \n",
      "07446237996274956735188575272489122793818301194912 "
     ],
     "language": "python",
     "metadata": {},
     "outputs": [
      {
       "metadata": {},
       "output_type": "pyout",
       "prompt_number": 31,
       "text": [
        "[3,\n",
        " 3,\n",
        " 3,\n",
        " 3,\n",
        " 3,\n",
        " 3,\n",
        " 3,\n",
        " 3,\n",
        " 3,\n",
        " 3,\n",
        " 3,\n",
        " 3,\n",
        " 3,\n",
        " 3,\n",
        " 3,\n",
        " 3,\n",
        " 3,\n",
        " 3,\n",
        " 3,\n",
        " 3,\n",
        " 3,\n",
        " 3,\n",
        " 3,\n",
        " 3,\n",
        " 3,\n",
        " 3,\n",
        " 3,\n",
        " 3,\n",
        " 3,\n",
        " 3,\n",
        " 3,\n",
        " 3,\n",
        " 3,\n",
        " 3,\n",
        " 3,\n",
        " 3,\n",
        " 3,\n",
        " 3,\n",
        " 3,\n",
        " 3,\n",
        " 3,\n",
        " 3,\n",
        " 3,\n",
        " 3,\n",
        " 3,\n",
        " 3,\n",
        " 3,\n",
        " 3,\n",
        " 3,\n",
        " 3,\n",
        " 3,\n",
        " 3,\n",
        " 3,\n",
        " 3,\n",
        " 3,\n",
        " 3,\n",
        " 3,\n",
        " 3,\n",
        " 3,\n",
        " 3,\n",
        " 3,\n",
        " 3,\n",
        " 3,\n",
        " 3,\n",
        " 3,\n",
        " 3,\n",
        " 3,\n",
        " 3,\n",
        " 3,\n",
        " 3,\n",
        " 3,\n",
        " 3,\n",
        " 3,\n",
        " 3,\n",
        " 3,\n",
        " 3,\n",
        " 3,\n",
        " 3,\n",
        " 3,\n",
        " 3,\n",
        " 3,\n",
        " 3,\n",
        " 3,\n",
        " 3,\n",
        " 3,\n",
        " 3,\n",
        " 3,\n",
        " 3,\n",
        " 3,\n",
        " 3,\n",
        " 3,\n",
        " 3,\n",
        " 3,\n",
        " 3,\n",
        " 3,\n",
        " 3,\n",
        " 3,\n",
        " 3,\n",
        " 3,\n",
        " 3]"
       ]
      }
     ],
     "prompt_number": 31
    },
    {
     "cell_type": "code",
     "collapsed": false,
     "input": [],
     "language": "python",
     "metadata": {},
     "outputs": []
    }
   ],
   "metadata": {}
  }
 ]
}