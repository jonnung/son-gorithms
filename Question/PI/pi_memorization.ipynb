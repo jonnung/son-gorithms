{
 "worksheets": [
  {
   "cells": [
    {
     "cell_type": "markdown",
     "metadata": {},
     "source": [
      "각 조각들의 난이도는 다음과 같이 정해집니다:  \n",
      "\n",
      "- 모든 숫자가 같을 때 (예: 333, 5555) 난이도: 1\n",
      "- 숫자가 1씩 단조 증가하거나 단조 감소할 때 (예: 23456, 3210) 난이도: 2\n",
      "- 두 개의 숫자가 번갈아 가며 출현할 때 (예: 323, 54545) 난이도: 4\n",
      "- 숫자가 등차 수열을 이룰 때 (예: 147, 8642) 난이도: 5\n",
      "- 그 외의 경우 난이도: 10\n",
      "\n",
      "난이도의 합을 최소화 하도록 3~5자리로 끊어서 읽고 싶음  \n",
      "입력의 첫 줄에는 테스트 케이스의 수 C (<= 50) 가 주어짐  \n",
      "각 테스트 케이스는 8글자 이상 10000글자 이하의 숫자로 주어짐  \n",
      "\n",
      "각 테스트 케이스마다 한 줄에 최소의 난이도를 구하라!  \n",
      "\n",
      "[샘플 Input]\n",
      "```\n",
      "5 \n",
      "12341234 \n",
      "11111222 \n",
      "12122222 \n",
      "22222222 \n",
      "12673939\n",
      "```\n",
      "\n",
      "[샘플 Output]\n",
      "```\n",
      "4\n",
      "2\n",
      "5\n",
      "2\n",
      "14\n",
      "```"
     ]
    },
    {
     "cell_type": "markdown",
     "metadata": {},
     "source": [
      "----\n",
      "# _난이도 계산 함수_\n",
      "### 1. 숫자 같음 (난이도: 1)"
     ]
    },
    {
     "cell_type": "code",
     "metadata": {},
     "outputs": [],
     "input": [
      "def is_level1(numbers):\n",
      "    return numbers == tuple(len(numbers) * [numbers[0]])"
     ],
     "language": "python",
     "prompt_number": 1
    },
    {
     "cell_type": "code",
     "metadata": {},
     "outputs": [
      {
       "output_type": "stream",
       "stream": "stdout",
       "text": [
        "True\n"
       ]
      }
     ],
     "input": [
      "print(is_level1((1, 1, 1, 1, 1)))"
     ],
     "language": "python",
     "prompt_number": 3
    },
    {
     "cell_type": "markdown",
     "metadata": {},
     "source": [
      "### 2. 1씩 단조 증감 (난이도: 2)"
     ]
    },
    {
     "cell_type": "code",
     "metadata": {},
     "outputs": [],
     "input": [
      "def is_level2(l):\n",
      "    t = zip(l, l[1:])\n",
      "    return all(x + 1 == y for x, y in t) or all(x - 1 == y for x, y in t)"
     ],
     "language": "python",
     "prompt_number": 4
    },
    {
     "cell_type": "markdown",
     "metadata": {},
     "source": [
      "### 3. 번갈아가며 반복 (난이도: 4)"
     ]
    },
    {
     "cell_type": "code",
     "metadata": {},
     "outputs": [],
     "input": [
      "def is_level4(l):\n",
      "    return is_level1(l[::2]) and is_level1(l[1::2])"
     ],
     "language": "python",
     "prompt_number": 5
    },
    {
     "cell_type": "markdown",
     "metadata": {},
     "source": [
      "### 4. 등차수열 (난이도: 5)"
     ]
    },
    {
     "cell_type": "code",
     "metadata": {},
     "outputs": [],
     "input": [
      "def is_level5(l):\n",
      "    d = l[0] - l[1]\n",
      "    return all(x - y == d for x, y in zip(l, l[1:]))"
     ],
     "language": "python",
     "prompt_number": 7
    },
    {
     "cell_type": "code",
     "metadata": {},
     "outputs": [
      {
       "output_type": "stream",
       "stream": "stdout",
       "text": [
        "8\n[7, 6, 2, 1, 3, 5, 7, 1, 2, 1, 2, 0, 0, 0, 0, 0, 2, 2, 1, 2, 3, 4, 5, 7, 8, 9, 1, 3, 5, 7, 9, 1, 2, 1, 2, 0, 0, 0, 0, 0, 2, 2, 1, 2, 3]\n"
       ]
      }
     ],
     "input": [
      "# 원주율 일부\n",
      "string = \"762135712120000022123457891357912120000022123\"\n",
      "\n",
      "std_input = [int(i) for i in string]\n",
      "\n",
      "print(len(string))\n",
      "print(input)\n",
      "# print(input[5:5+3])\n",
      "slice_list = [5, 4, 3]"
     ],
     "language": "python",
     "prompt_number": 53
    },
    {
     "cell_type": "code",
     "metadata": {},
     "outputs": [
      {
       "output_type": "stream",
       "stream": "stdout",
       "text": [
        "///////////////////////////\n30\n"
       ]
      }
     ],
     "input": [
      "start = 0\n",
      "end = None\n",
      "last_seq = len(std_input)-1\n",
      "\n",
      "cache = {}\n",
      "min_level = 0\n",
      "\n",
      "limit = 0\n",
      "\n",
      "while True:\n",
      "    max_end = 0\n",
      "    level = 0\n",
      "    level_acc = {\n",
      "        3: 10,\n",
      "        4: 10,\n",
      "        5: 10\n",
      "    }\n",
      "\n",
      "    for step in slice_list:\n",
      "        end = start + step\n",
      "        \n",
      "        # print(\"\\n\\n===========================\")\n",
      "        # print(\"Start: %d | End: %d\" % (start, end,))\n",
      "        # print(\"---------------------------\")\n",
      "        \n",
      "        # last_seq == 7\n",
      "        if (last_seq+1) - end >= 3 or (last_seq+1) - end == 0:\n",
      "            read = tuple(input[start:end])\n",
      "            \n",
      "            # print(tuple(input[start:end]))\n",
      "            \n",
      "            if read in cache:\n",
      "                level = cache[read]\n",
      "            elif is_level1(read):\n",
      "                level = 1\n",
      "            elif is_level2(read):\n",
      "                level = 2\n",
      "            elif is_level4(read):\n",
      "                level = 4\n",
      "            elif is_level5(read):\n",
      "                level = 5\n",
      "            else:\n",
      "                level = 10\n",
      "        \n",
      "            # print(\"Level: %d \" % level)\n",
      "            cache[read] = level\n",
      "        else:\n",
      "            # print(\">> Pass End: %d\" % end)\n",
      "            continue\n",
      "        level_acc[step] = level\n",
      "\n",
      "    min_val = min(level_acc.values())\n",
      "    min_level += min_val\n",
      "    start = start + min([int(x) for x, y in level_acc.items() if y == min_val])\n",
      "    \n",
      "    limit += 1\n",
      "\n",
      "    if end >= (last_seq+1):\n",
      "        break\n",
      "    if limit == 100:\n",
      "        break\n",
      "\n",
      "print(\"///////////////////////////\")\n",
      "print(min_level)"
     ],
     "language": "python",
     "prompt_number": 55
    },
    {
     "cell_type": "heading",
     "metadata": {},
     "level": 2,
     "source": [
      "무조건 큰 조각으로 자르는 버전"
     ]
    },
    {
     "cell_type": "code",
     "metadata": {},
     "outputs": [
      {
       "output_type": "stream",
       "stream": "stdout",
       "text": [
        "20\n"
       ]
      }
     ],
     "input": [
      "partial_pi = input\n",
      "start = 0\n",
      "end = None\n",
      "last_seq = len(std_input)-1\n",
      "min_level = 0\n",
      "\n",
      "while True:\n",
      "    max_end = 0\n",
      "    level = 0\n",
      "\n",
      "    for step in slice_list:\n",
      "        end = start + step\n",
      "        \n",
      "        # print(\"\\n\\n===========================\")\n",
      "        # print(\"Start: %d | End: %d\" % (start, end,))\n",
      "        # print(\"---------------------------\")\n",
      "\n",
      "        if (last_seq+1) - end >= 3 or (last_seq+1) - end == 0:\n",
      "            read = tuple(partial_pi[start:end])\n",
      "            \n",
      "            # print(tuple(input[start:end]))\n",
      "\n",
      "            if read in cache:\n",
      "                level = cache[read]\n",
      "            elif is_level1(read):\n",
      "                level = 1\n",
      "            elif is_level2(read):\n",
      "                level = 2\n",
      "            elif is_level4(read):\n",
      "                level = 4\n",
      "            elif is_level5(read):\n",
      "                level = 5\n",
      "            else:\n",
      "                level = 10\n",
      "\n",
      "            if level < 10:\n",
      "                max_end = end\n",
      "                break\n",
      "            else:\n",
      "                if end > max_end:\n",
      "                    max_end = end\n",
      "            # print(\"Level: %d \" % level)        \n",
      "            cache[read] = level\n",
      "        else:\n",
      "            end = max_end\n",
      "            # print(\">> Pass End: %d\" % end)\n",
      "            continue\n",
      "\n",
      "    min_level += level\n",
      "    start = max_end\n",
      "\n",
      "    if end >= (last_seq+1):\n",
      "        break\n",
      "\n",
      "print(min_level)"
     ],
     "language": "python",
     "prompt_number": 56
    },
    {
     "cell_type": "markdown",
     "metadata": {},
     "source": [
      "느낌적인 느낌으로!!  \n",
      "*레벨이 10일때는 가장 작게 쪼개고*   \n",
      "*레벨이 10보다 작을 때는 가장 크게 쪼개면?*  "
     ]
    },
    {
     "cell_type": "heading",
     "metadata": {},
     "level": 2,
     "source": [
      "레벨 10 보다 작을 때 가장 크게 쪼개고, 10이면 가장 작게 쪼개는 버전"
     ]
    },
    {
     "cell_type": "code",
     "metadata": {},
     "outputs": [
      {
       "output_type": "stream",
       "stream": "stdout",
       "text": [
        "---------------------------\nStart: 0 | End: 5\n---------------------------\nStart: 0 | End: 4\n---------------------------\nStart: 0 | End: 3\n---------------------------\nMin level: 10 \nStep by level: \n [3] => 10, [4] => 10, [5] => 10\nConsider step: 3 \nSlice values: [1, 2, 6]\n===========================\n---------------------------\nStart: 3 | End: 8\n---------------------------\nStart: 3 | End: 7\n---------------------------\nStart: 3 | End: 6\n---------------------------\nMin level: 10 \nStep by level: \n [3] => 0, [4] => 0, [5] => 10\nConsider step: 5 \nSlice values: [7, 3, 9, 3, 9]\n===========================\n20\n"
       ]
      }
     ],
     "input": [
      "string = \"12673939\"\n",
      "partial_pi = [int(i) for i in string]\n",
      "\n",
      "start = 0\n",
      "end = None\n",
      "last_seq = len(partial_pi)-1\n",
      "total_level = 0\n",
      "\n",
      "while True:\n",
      "    max_end = 0\n",
      "    level = 0\n",
      "    step_by_level = {\n",
      "        3: 0,\n",
      "        4: 0,\n",
      "        5: 0        \n",
      "    }\n",
      "\n",
      "    for step in slice_list:\n",
      "        end = start + step\n",
      "        \n",
      "        print(\"---------------------------\")\n",
      "        print(\"Start: %d | End: %d\" % (start, end,))        \n",
      "\n",
      "        if (last_seq+1) - end >= 3 or (last_seq+1) - end == 0:\n",
      "            read = tuple(partial_pi[start:end])\n",
      "            \n",
      "            # print(tuple(input[start:end]))\n",
      "\n",
      "            if read in cache:\n",
      "                level = cache[read]\n",
      "            elif is_level1(read):\n",
      "                level = 1\n",
      "            elif is_level2(read):\n",
      "                level = 2\n",
      "            elif is_level4(read):\n",
      "                level = 4\n",
      "            elif is_level5(read):\n",
      "                level = 5\n",
      "            else:\n",
      "                level = 10\n",
      "\n",
      "            step_by_level[step] = level        \n",
      "            cache[read] = level\n",
      "        else:\n",
      "            continue\n",
      "    filter_level = dict((k, v) for k, v in step_by_level.items() if v > 0)    \n",
      "    min_level = min(filter_level.values())\n",
      "    \n",
      "    # min_level = min(step_by_level.values())\n",
      "    \n",
      "    print(\"---------------------------\")\n",
      "    print(\"Min level: %d \" % min_level)\n",
      "    print(\"Step by level: \\n [3] => %d, [4] => %d, [5] => %d\" % tuple([int(v) for s, v in step_by_level.items()]))\n",
      "    \n",
      "    if min_level < 10:\n",
      "        consider_step = max([int(s) for s, v in step_by_level.items() if v == min_level])\n",
      "    else:\n",
      "        consider_step = min(filter_level.keys())\n",
      "\n",
      "    print(\"Consider step: %d \" % consider_step)\n",
      "    print(\"Slice values: %r\" % partial_pi[start:start+consider_step])\n",
      "    print(\"===========================\")    \n",
      "\n",
      "    total_level += min_level\n",
      "    start = start + consider_step\n",
      "\n",
      "    if start >= (last_seq+1):\n",
      "        break\n",
      "\n",
      "print(total_level)"
     ],
     "language": "python",
     "prompt_number": 66
    },
    {
     "cell_type": "markdown",
     "metadata": {},
     "source": [
      ""
     ]
    },
    {
     "cell_type": "heading",
     "metadata": {},
     "level": 2,
     "source": [
      "현재 쪼갠 숫자들의 레벨을 측정하고 그 다음에 자를 수 있는 숫자들의 레벨도 고려하기"
     ]
    },
    {
     "cell_type": "code",
     "metadata": {},
     "outputs": [],
     "input": [
      ""
     ],
     "language": "python"
    }
   ]
  }
 ],
 "cells": [],
 "metadata": {
  "name": "",
  "signature": "sha256:52158d85ac87a9dd6fd8e7c5fb55c6db1efcc23a0d6f7f6866ded1027ccf1438"
 },
 "nbformat": 3,
 "nbformat_minor": 0
}