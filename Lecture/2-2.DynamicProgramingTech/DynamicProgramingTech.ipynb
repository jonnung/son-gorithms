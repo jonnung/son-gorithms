{
 "metadata": {
  "name": "",
  "signature": "sha256:c6dd7fe7ade03b0fb36bcfbcc112cb804d7aa75a68650b0e77f4235172992070"
 },
 "nbformat": 3,
 "nbformat_minor": 0,
 "worksheets": [
  {
   "cells": [
    {
     "cell_type": "markdown",
     "metadata": {},
     "source": [
      "## \ub3d9\uc801\uacc4\ud68d\ubc95 \ubcf4\uac15  \n",
      "\ubc1c\ud45c\uc790: \uae40\uc815\uc8fc"
     ]
    },
    {
     "cell_type": "markdown",
     "metadata": {},
     "source": [
      "- \ubb38\uc81c\ub97c \uc5ec\ub7ec \uc870\uac01\uc73c\ub85c \ub098\ub220 \uc800\uc7a5\ud55c \uac12\uc744 \uc0ac\uc6a9\ud558\ub294 \uac83\uc774 \ud575\uc2ec\n",
      "- \uc644\uc804 \ud0d0\uc0c9(exhaustive search), \uba54\ubaa8\uc774\uc81c\uc774\uc158\n",
      "\n",
      "\n",
      "\ucc98\uc74c\ubd80\ud130 \ucd5c\uc801\ud654\ub41c \ucf54\ub4dc\ub97c \uc9dc\ub824\uace0 \ud558\uba74 \uc798 \uc548\ub418\ub294 \ubc95\uc774\ub2e4.  \n"
     ]
    },
    {
     "cell_type": "markdown",
     "metadata": {},
     "source": [
      "\uc5c4\uccad\ub09c \uc911\ubcf5.. overlapping subprobrem  \n",
      "\n",
      "\uba54\ubaa8\uc774\uc81c\uc774\uc158! \uc800\uc7a5\uc7a5\uc18c\ub97c \ud76c\uc0dd\ud574\uc11c \uc18d\ub3c4\ub97c \uc5bb\ub294\ub2e4!  \n",
      "\n",
      "python3 \uc5d0\uc11c\ub294 functools.lru_cache\ub97c \uc0ac\uc6a9\ud558\uba74 \uc88b\ub2e4.  \n",
      "  \n",
      "\ubd80\ubd84\ubb38\uc81c\uc5d0 \ub300\ud574 \uba54\ubaa8\uc774\uc81c\uc774\uc158\uc744 \uc0ac\uc6a9\ud574\ub3c4 \uce90\uc2dc\ub97c \ud560\ub9cc\ud55c \uc774\uc720\uac00 \uc5c6\uc744\ub54c\ub294 \ud544\uc694\uac00 \uc5c6\uac8c \ub418\ub294 \uac83\uc774\ub2e4.  \n",
      "\ubd80\ubd84\ubb38\uc81c\uc758 \ucd5c\uc801\ud574\ub97c \uc54c\uba74 \uc804\uccb4\ubb38\uc81c\uc758 \ucd5c\uc801\ud574\ub97c \uad6c\ud560 \uc218 \uc788\ub2e4.   "
     ]
    },
    {
     "cell_type": "code",
     "collapsed": false,
     "input": [],
     "language": "python",
     "metadata": {},
     "outputs": []
    }
   ],
   "metadata": {}
  }
 ]
}