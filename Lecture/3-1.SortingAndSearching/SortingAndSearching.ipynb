{
 "worksheets": [
  {
   "cells": [
    {
     "cell_type": "markdown",
     "metadata": {},
     "source": [
      "## Sequential Search\n",
      "처음부터 끝가지 다 찾는다.  \n",
      "필요없는 연산을 하지 않기 위해 상태를 저장할 변수를 두는것도 괜찮다. (ex. stop)     "
     ]
    },
    {
     "cell_type": "markdown",
     "metadata": {},
     "source": [
      "## Binary Search\n",
      "시작포인트를 절반부터 시작하게 됨  "
     ]
    },
    {
     "cell_type": "markdown",
     "metadata": {},
     "source": [
      "## Hashing\n",
      "네이버 개발자센터 포스팅도 참고해 볼 것 "
     ]
    },
    {
     "cell_type": "code",
     "metadata": {},
     "outputs": [
      {
       "output_type": "pyout",
       "text": [
        "[10, 9, 8, 7, 6, 5, 4, 3, 2, 1]"
       ],
       "metadata": {}
      }
     ],
     "input": [
      "range(10, 0, -1)"
     ],
     "language": "python",
     "prompt_number": 2
    },
    {
     "cell_type": "code",
     "metadata": {},
     "outputs": [],
     "input": [
      "l = []\n",
      "l.sort()"
     ],
     "language": "python"
    }
   ]
  }
 ],
 "cells": [],
 "metadata": {},
 "nbformat": 3,
 "nbformat_minor": 0
}