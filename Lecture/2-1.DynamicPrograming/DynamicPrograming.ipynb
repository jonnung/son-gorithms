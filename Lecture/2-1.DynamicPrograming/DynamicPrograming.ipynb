{
 "metadata": {
  "signature": "sha256:a1b51ad58168e7bfea8cabd0fb205948828093dc21fc20aa9547f9bc3d233af3"
 },
 "nbformat": 3,
 "nbformat_minor": 0,
 "worksheets": [
  {
   "cells": [
    {
     "cell_type": "markdown",
     "metadata": {},
     "source": [
      "### Active Code 1"
     ]
    },
    {
     "cell_type": "code",
     "collapsed": false,
     "input": [
      "def recDC(coinValueList, change, knownResults):\n",
      "    minCoins = change\n",
      "    if change in coinValueList:\n",
      "        knownResults[change] = 1\n",
      "        return 1\n",
      "    elif knownResults[change] > 0:\n",
      "        # \uc774\ubbf8 \uc54c\uace0 \uc788\ub294 \uac12\uc774\uba74 \uc54c\ub824\uc900\ub2e4. (\ubc84\ud37c)\n",
      "        return knownResults[change]\n",
      "    else:\n",
      "        for i in [c for c in coinValueList if c <= change]:\n",
      "            numCoins = 1 + recDC(coinValueList, change-i,\n",
      "                                knownResults)\n",
      "            if numCoins < minCoins:\n",
      "                minCoins = numCoins\n",
      "                knownResults[change] = minCoins\n",
      "    return minCoins"
     ],
     "language": "python",
     "metadata": {},
     "outputs": [],
     "prompt_number": 4
    },
    {
     "cell_type": "code",
     "collapsed": false,
     "input": [
      "print(recDC([1, 5, 10, 25], 63, [0]*64))"
     ],
     "language": "python",
     "metadata": {},
     "outputs": [
      {
       "output_type": "stream",
       "stream": "stdout",
       "text": [
        "6\n"
       ]
      }
     ],
     "prompt_number": 5
    },
    {
     "cell_type": "markdown",
     "metadata": {},
     "source": [
      "Listing8 a dynamic programming algorithm to solve our change-making problem. __dpMakeChange__ takes three parameters: a list of valid coin values, the amount of change we want to make, and a list of the minimum number of coins needed to make each value. When the function is done __minCoins__ will contain the solution for all values from 0 to the value of __change__.  \n",
      "\n",
      "### Listing8"
     ]
    },
    {
     "cell_type": "code",
     "collapsed": false,
     "input": [
      "def dpMakeChange(coinValueList, change, bufferCoin):\n",
      "    for cents in range(change+1):\n",
      "        coinCount = cents\n",
      "        for j in [c for c in coinValueList if c <= cents]:\n",
      "            if bufferCoin[cents-j] + 1 < coinCount:  # \uc774 \ubd80\ubd84\uc774 \uc544\uc608 \uc774\ud574\uac00 \uc548\uac00\ub294\uad70\n",
      "                coinCount = bufferCoin[cents-j]+1\n",
      "        bufferCoin[cents] = coinCount\n",
      "    return bufferCoin[change]"
     ],
     "language": "python",
     "metadata": {},
     "outputs": [],
     "prompt_number": 28
    },
    {
     "cell_type": "code",
     "collapsed": false,
     "input": [
      "print(dpMakeChange([1, 5, 10, 25], 1000, [0]*1001))"
     ],
     "language": "python",
     "metadata": {},
     "outputs": [
      {
       "output_type": "stream",
       "stream": "stdout",
       "text": [
        "5\n"
       ]
      }
     ],
     "prompt_number": 29
    },
    {
     "cell_type": "code",
     "collapsed": false,
     "input": [
      "def testDpMakeChange(coinValueList, change, bufferCoin):\n",
      "    print(\"\uacc4\uc0b0 \ud574\uc57c\ud558\ub294 \uac70\uc2a4\ub984\ub3c8: %d\" % change)\n",
      "    for cents in range(change+1):\n",
      "        print(\"-------------------------------------------\")\n",
      "        print(\"\uc9c0\uae08 \uacc4\uc0b0\ud560 \uac70\uc2a4\ub984\ub3c8 \uc870\uac01: %d\" % cents)\n",
      "        coinCount = cents\n",
      "        print(\" List comprehension >> \", [c for c in coinValueList if c <= cents])\n",
      "        \n",
      "        for j in [c for c in coinValueList if c <= cents]: # \uc0ac\uc6a9\ud560 \uc218 \uc788\ub294 \uac70\uc2a4\ub984\ub3c8 \ubaa9\ub85d\ub9cc \ucd94\ub824\ub0c4\n",
      "            if bufferCoin[cents-j] + 1 < coinCount:  # \uccab \ub8e8\ud504\ub54c\ub294 \uac70\uc2a4\ub984\ub3c8 \uae08\uc561 \uc790\uccb4\uac00 \uac70\uc2a4\ub984\ub3c8 \uac1c\uc218\uac00 \ub428(1\uc13c\ud2b8\ub85c\ub9cc \uc92c\uc744\ub54c)\n",
      "                coinCount = bufferCoin[cents-j]+1\n",
      "                \n",
      "        bufferCoin[cents] = coinCount\n",
      "        print(\" Cached list >> \", bufferCoin)\n",
      "    return bufferCoin[change]"
     ],
     "language": "python",
     "metadata": {},
     "outputs": [],
     "prompt_number": 10
    },
    {
     "cell_type": "code",
     "collapsed": false,
     "input": [
      "print(testDpMakeChange([1, 5, 10, 25], 13, [0]*14))"
     ],
     "language": "python",
     "metadata": {},
     "outputs": [
      {
       "output_type": "stream",
       "stream": "stdout",
       "text": [
        "\uacc4\uc0b0 \ud574\uc57c\ud558\ub294 \uac70\uc2a4\ub984\ub3c8: 13\n",
        "-------------------------------------------\n",
        "\uc9c0\uae08 \uacc4\uc0b0\ud560 \uac70\uc2a4\ub984\ub3c8 \uc870\uac01: 0\n",
        "(' List comprehension >> ', [])\n",
        "(' Cached list >> ', [0, 0, 0, 0, 0, 0, 0, 0, 0, 0, 0, 0, 0, 0])\n",
        "-------------------------------------------\n",
        "\uc9c0\uae08 \uacc4\uc0b0\ud560 \uac70\uc2a4\ub984\ub3c8 \uc870\uac01: 1\n",
        "(' List comprehension >> ', [1])\n",
        "(' Cached list >> ', [0, 1, 0, 0, 0, 0, 0, 0, 0, 0, 0, 0, 0, 0])\n",
        "-------------------------------------------\n",
        "\uc9c0\uae08 \uacc4\uc0b0\ud560 \uac70\uc2a4\ub984\ub3c8 \uc870\uac01: 2\n",
        "(' List comprehension >> ', [1])\n",
        "(' Cached list >> ', [0, 1, 2, 0, 0, 0, 0, 0, 0, 0, 0, 0, 0, 0])\n",
        "-------------------------------------------\n",
        "\uc9c0\uae08 \uacc4\uc0b0\ud560 \uac70\uc2a4\ub984\ub3c8 \uc870\uac01: 3\n",
        "(' List comprehension >> ', [1])\n",
        "(' Cached list >> ', [0, 1, 2, 3, 0, 0, 0, 0, 0, 0, 0, 0, 0, 0])\n",
        "-------------------------------------------\n",
        "\uc9c0\uae08 \uacc4\uc0b0\ud560 \uac70\uc2a4\ub984\ub3c8 \uc870\uac01: 4\n",
        "(' List comprehension >> ', [1])\n",
        "(' Cached list >> ', [0, 1, 2, 3, 4, 0, 0, 0, 0, 0, 0, 0, 0, 0])\n",
        "-------------------------------------------\n",
        "\uc9c0\uae08 \uacc4\uc0b0\ud560 \uac70\uc2a4\ub984\ub3c8 \uc870\uac01: 5\n",
        "(' List comprehension >> ', [1, 5])\n",
        "(' Cached list >> ', [0, 1, 2, 3, 4, 1, 0, 0, 0, 0, 0, 0, 0, 0])\n",
        "-------------------------------------------\n",
        "\uc9c0\uae08 \uacc4\uc0b0\ud560 \uac70\uc2a4\ub984\ub3c8 \uc870\uac01: 6\n",
        "(' List comprehension >> ', [1, 5])\n",
        "(' Cached list >> ', [0, 1, 2, 3, 4, 1, 2, 0, 0, 0, 0, 0, 0, 0])\n",
        "-------------------------------------------\n",
        "\uc9c0\uae08 \uacc4\uc0b0\ud560 \uac70\uc2a4\ub984\ub3c8 \uc870\uac01: 7\n",
        "(' List comprehension >> ', [1, 5])\n",
        "(' Cached list >> ', [0, 1, 2, 3, 4, 1, 2, 3, 0, 0, 0, 0, 0, 0])\n",
        "-------------------------------------------\n",
        "\uc9c0\uae08 \uacc4\uc0b0\ud560 \uac70\uc2a4\ub984\ub3c8 \uc870\uac01: 8\n",
        "(' List comprehension >> ', [1, 5])\n",
        "(' Cached list >> ', [0, 1, 2, 3, 4, 1, 2, 3, 4, 0, 0, 0, 0, 0])\n",
        "-------------------------------------------\n",
        "\uc9c0\uae08 \uacc4\uc0b0\ud560 \uac70\uc2a4\ub984\ub3c8 \uc870\uac01: 9\n",
        "(' List comprehension >> ', [1, 5])\n",
        "(' Cached list >> ', [0, 1, 2, 3, 4, 1, 2, 3, 4, 5, 0, 0, 0, 0])\n",
        "-------------------------------------------\n",
        "\uc9c0\uae08 \uacc4\uc0b0\ud560 \uac70\uc2a4\ub984\ub3c8 \uc870\uac01: 10\n",
        "(' List comprehension >> ', [1, 5, 10])\n",
        "(' Cached list >> ', [0, 1, 2, 3, 4, 1, 2, 3, 4, 5, 1, 0, 0, 0])\n",
        "-------------------------------------------\n",
        "\uc9c0\uae08 \uacc4\uc0b0\ud560 \uac70\uc2a4\ub984\ub3c8 \uc870\uac01: 11\n",
        "(' List comprehension >> ', [1, 5, 10])\n",
        "(' Cached list >> ', [0, 1, 2, 3, 4, 1, 2, 3, 4, 5, 1, 2, 0, 0])\n",
        "-------------------------------------------\n",
        "\uc9c0\uae08 \uacc4\uc0b0\ud560 \uac70\uc2a4\ub984\ub3c8 \uc870\uac01: 12\n",
        "(' List comprehension >> ', [1, 5, 10])\n",
        "(' Cached list >> ', [0, 1, 2, 3, 4, 1, 2, 3, 4, 5, 1, 2, 3, 0])\n",
        "-------------------------------------------\n",
        "\uc9c0\uae08 \uacc4\uc0b0\ud560 \uac70\uc2a4\ub984\ub3c8 \uc870\uac01: 13\n",
        "(' List comprehension >> ', [1, 5, 10])\n",
        "(' Cached list >> ', [0, 1, 2, 3, 4, 1, 2, 3, 4, 5, 1, 2, 3, 4])\n",
        "4\n"
       ]
      }
     ],
     "prompt_number": 11
    },
    {
     "cell_type": "markdown",
     "metadata": {},
     "source": [
      "\uc7ac\uadc0\ub97c \uc548\uc4f0\uace0\ub3c4 \ud6e8\uc52c \ube60\ub974\uac8c \uacb0\uacfc\ub97c \uc5bb\uc5b4\ub0c8\ub2e4.  \n",
      "\uc774\uac8c \ub3d9\uc801 \uacc4\ud68d\ubc95\uc774\uad6c\ub098..  "
     ]
    },
    {
     "cell_type": "code",
     "collapsed": false,
     "input": [
      "def dpMakeChange(coinValueList, change, minCoins, coinsUsed):\n",
      "    for cents in range(change+1):\n",
      "        coinCount = cents\n",
      "        newCoin = 1\n",
      "        for j in [c for c in coinValueList if c <= cents]:\n",
      "            if minCoins[cents-j] + 1 < coinCount:\n",
      "                coinCount = minCoins[cents-j]+1\n",
      "                newCoin = j\n",
      "        minCoins[cents] = coinCount\n",
      "        coinsUsed[cents] = newCoin\n",
      "    return minCoins[change]\n",
      "\n",
      "def printCoins(coinsUsed,change):\n",
      "    coin = change\n",
      "    while coin > 0:\n",
      "        thisCoin = coinsUsed[coin]\n",
      "        print(thisCoin)\n",
      "        coin = coin - thisCoin\n",
      "\n",
      "def main():\n",
      "    amnt = 63\n",
      "    clist = [1,5,10,21,25]\n",
      "    coinsUsed = [0]*(amnt+1)\n",
      "    coinCount = [0]*(amnt+1)\n",
      "\n",
      "    print(\"Making change for\",amnt,\"requires\")\n",
      "    print(dpMakeChange(clist,amnt,coinCount,coinsUsed),\"coins\")\n",
      "    print(\"They are:\")\n",
      "    printCoins(coinsUsed,amnt)\n",
      "    print(\"The used list is as follows:\")\n",
      "    print(coinsUsed)\n",
      "\n",
      "main()"
     ],
     "language": "python",
     "metadata": {},
     "outputs": [
      {
       "output_type": "stream",
       "stream": "stdout",
       "text": [
        "('Making change for', 63, 'requires')\n",
        "(3, 'coins')\n",
        "They are:\n",
        "21\n",
        "21\n",
        "21\n",
        "The used list is as follows:\n",
        "[1, 1, 1, 1, 1, 5, 1, 1, 1, 1, 10, 1, 1, 1, 1, 5, 1, 1, 1, 1, 10, 21, 1, 1, 1, 25, 1, 1, 1, 1, 5, 10, 1, 1, 1, 10, 1, 1, 1, 1, 5, 10, 21, 1, 1, 10, 21, 1, 1, 1, 25, 1, 10, 1, 1, 5, 10, 1, 1, 1, 10, 1, 10, 21]\n"
       ]
      }
     ],
     "prompt_number": 9
    },
    {
     "cell_type": "code",
     "collapsed": false,
     "input": [],
     "language": "python",
     "metadata": {},
     "outputs": [],
     "prompt_number": 8
    },
    {
     "cell_type": "code",
     "collapsed": false,
     "input": [],
     "language": "python",
     "metadata": {},
     "outputs": []
    }
   ],
   "metadata": {}
  }
 ]
}