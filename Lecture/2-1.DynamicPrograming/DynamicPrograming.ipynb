{
 "worksheets": [
  {
   "cells": [
    {
     "cell_type": "markdown",
     "metadata": {},
     "source": [
      "### Active Code 1"
     ]
    },
    {
     "cell_type": "code",
     "metadata": {},
     "outputs": [],
     "input": [
      "def recDC(coinValueList, change, knownResults):\n",
      "    minCoins = change\n",
      "    if change in coinValueList:\n",
      "        knownResults[change] = 1\n",
      "        return 1\n",
      "    elif knownResults[change] > 0:\n",
      "        # 이미 알고 있는 값이면 알려준다. (버퍼)\n",
      "        return knownResults[change]\n",
      "    else:\n",
      "        for i in [c for c in coinValueList if c <= change]:\n",
      "            numCoins = 1 + recDC(coinValueList, change-i,\n",
      "                                knownResults)\n",
      "            if numCoins < minCoins:\n",
      "                minCoins = numCoins\n",
      "                knownResults[change] = minCoins\n",
      "    return minCoins"
     ],
     "language": "python",
     "prompt_number": 4
    },
    {
     "cell_type": "code",
     "metadata": {},
     "outputs": [
      {
       "output_type": "stream",
       "stream": "stdout",
       "text": [
        "6\n"
       ]
      }
     ],
     "input": [
      "print(recDC([1, 5, 10, 25], 63, [0]*64))"
     ],
     "language": "python",
     "prompt_number": 5
    },
    {
     "cell_type": "markdown",
     "metadata": {},
     "source": [
      "Listing8 a dynamic programming algorithm to solve our change-making problem. __dpMakeChange__ takes three parameters: a list of valid coin values, the amount of change we want to make, and a list of the minimum number of coins needed to make each value. When the function is done __minCoins__ will contain the solution for all values from 0 to the value of __change__.  \n",
      "\n",
      "### Listing8"
     ]
    },
    {
     "cell_type": "code",
     "metadata": {},
     "outputs": [],
     "input": [
      "def dpMakeChange(coinValueList, change, bufferCoin):\n",
      "    for cents in range(change+1):\n",
      "        coinCount = cents\n",
      "        for j in [c for c in coinValueList if c <= cents]:\n",
      "            if bufferCoin[cents-j] + 1 < coinCount:  # 이 부분이 아예 이해가 안가는군\n",
      "                coinCount = bufferCoin[cents-j]+1\n",
      "        bufferCoin[cents] = coinCount\n",
      "    return bufferCoin[change]"
     ],
     "language": "python",
     "prompt_number": 28
    },
    {
     "cell_type": "code",
     "metadata": {},
     "outputs": [
      {
       "output_type": "stream",
       "stream": "stdout",
       "text": [
        "5\n"
       ]
      }
     ],
     "input": [
      "print(dpMakeChange([1, 5, 10, 25], 1000, [0]*1001))"
     ],
     "language": "python",
     "prompt_number": 29
    },
    {
     "cell_type": "code",
     "metadata": {},
     "outputs": [],
     "input": [
      "def testDpMakeChange(coinValueList, change, bufferCoin):\n",
      "    print(\"계산 해야하는 거스름돈: %d\" % change)\n",
      "    for cents in range(change+1):\n",
      "        print(\"-------------------------------------------\")\n",
      "        print(\"지금 계산할 거스름돈 조각: %d\" % cents)\n",
      "        coinCount = cents\n",
      "        print(\" List comprehension >> \", [c for c in coinValueList if c <= cents])\n",
      "        \n",
      "        for j in [c for c in coinValueList if c <= cents]: # 사용할 수 있는 거스름돈 목록만 추려냄\n",
      "            if bufferCoin[cents-j] + 1 < coinCount:  # 첫 루프때는 거스름돈 금액 자체가 거스름돈 개수가 됨(1센트로만 줬을때)\n",
      "                coinCount = bufferCoin[cents-j]+1\n",
      "                \n",
      "        bufferCoin[cents] = coinCount\n",
      "        print(\" Cached list >> \", bufferCoin)\n",
      "    return bufferCoin[change]"
     ],
     "language": "python",
     "prompt_number": 10
    },
    {
     "cell_type": "code",
     "metadata": {},
     "outputs": [
      {
       "output_type": "stream",
       "stream": "stdout",
       "text": [
        "계산 해야하는 거스름돈: 13\n",
        "-------------------------------------------\n",
        "지금 계산할 거스름돈 조각: 0\n",
        "(' List comprehension >> ', [])\n",
        "(' Cached list >> ', [0, 0, 0, 0, 0, 0, 0, 0, 0, 0, 0, 0, 0, 0])\n",
        "-------------------------------------------\n",
        "지금 계산할 거스름돈 조각: 1\n",
        "(' List comprehension >> ', [1])\n",
        "(' Cached list >> ', [0, 1, 0, 0, 0, 0, 0, 0, 0, 0, 0, 0, 0, 0])\n",
        "-------------------------------------------\n",
        "지금 계산할 거스름돈 조각: 2\n",
        "(' List comprehension >> ', [1])\n",
        "(' Cached list >> ', [0, 1, 2, 0, 0, 0, 0, 0, 0, 0, 0, 0, 0, 0])\n",
        "-------------------------------------------\n",
        "지금 계산할 거스름돈 조각: 3\n",
        "(' List comprehension >> ', [1])\n",
        "(' Cached list >> ', [0, 1, 2, 3, 0, 0, 0, 0, 0, 0, 0, 0, 0, 0])\n",
        "-------------------------------------------\n",
        "지금 계산할 거스름돈 조각: 4\n",
        "(' List comprehension >> ', [1])\n",
        "(' Cached list >> ', [0, 1, 2, 3, 4, 0, 0, 0, 0, 0, 0, 0, 0, 0])\n",
        "-------------------------------------------\n",
        "지금 계산할 거스름돈 조각: 5\n",
        "(' List comprehension >> ', [1, 5])\n",
        "(' Cached list >> ', [0, 1, 2, 3, 4, 1, 0, 0, 0, 0, 0, 0, 0, 0])\n",
        "-------------------------------------------\n",
        "지금 계산할 거스름돈 조각: 6\n",
        "(' List comprehension >> ', [1, 5])\n",
        "(' Cached list >> ', [0, 1, 2, 3, 4, 1, 2, 0, 0, 0, 0, 0, 0, 0])\n",
        "-------------------------------------------\n",
        "지금 계산할 거스름돈 조각: 7\n",
        "(' List comprehension >> ', [1, 5])\n",
        "(' Cached list >> ', [0, 1, 2, 3, 4, 1, 2, 3, 0, 0, 0, 0, 0, 0])\n",
        "-------------------------------------------\n",
        "지금 계산할 거스름돈 조각: 8\n",
        "(' List comprehension >> ', [1, 5])\n",
        "(' Cached list >> ', [0, 1, 2, 3, 4, 1, 2, 3, 4, 0, 0, 0, 0, 0])\n",
        "-------------------------------------------\n",
        "지금 계산할 거스름돈 조각: 9\n",
        "(' List comprehension >> ', [1, 5])\n",
        "(' Cached list >> ', [0, 1, 2, 3, 4, 1, 2, 3, 4, 5, 0, 0, 0, 0])\n",
        "-------------------------------------------\n",
        "지금 계산할 거스름돈 조각: 10\n",
        "(' List comprehension >> ', [1, 5, 10])\n",
        "(' Cached list >> ', [0, 1, 2, 3, 4, 1, 2, 3, 4, 5, 1, 0, 0, 0])\n",
        "-------------------------------------------\n",
        "지금 계산할 거스름돈 조각: 11\n",
        "(' List comprehension >> ', [1, 5, 10])\n",
        "(' Cached list >> ', [0, 1, 2, 3, 4, 1, 2, 3, 4, 5, 1, 2, 0, 0])\n",
        "-------------------------------------------\n",
        "지금 계산할 거스름돈 조각: 12\n",
        "(' List comprehension >> ', [1, 5, 10])\n",
        "(' Cached list >> ', [0, 1, 2, 3, 4, 1, 2, 3, 4, 5, 1, 2, 3, 0])\n",
        "-------------------------------------------\n",
        "지금 계산할 거스름돈 조각: 13\n",
        "(' List comprehension >> ', [1, 5, 10])\n",
        "(' Cached list >> ', [0, 1, 2, 3, 4, 1, 2, 3, 4, 5, 1, 2, 3, 4])\n",
        "4\n"
       ]
      }
     ],
     "input": [
      "print(testDpMakeChange([1, 5, 10, 25], 13, [0]*14))"
     ],
     "language": "python",
     "prompt_number": 11
    },
    {
     "cell_type": "markdown",
     "metadata": {},
     "source": [
      "재귀를 안쓰고도 훨씬 빠르게 결과를 얻어냈다.  \n",
      "이게 동적 계획법이구나..  "
     ]
    },
    {
     "cell_type": "code",
     "metadata": {},
     "outputs": [
      {
       "output_type": "stream",
       "stream": "stdout",
       "text": [
        "('Making change for', 63, 'requires')\n",
        "(3, 'coins')\n",
        "They are:\n",
        "21\n",
        "21\n",
        "21\n",
        "The used list is as follows:\n",
        "[1, 1, 1, 1, 1, 5, 1, 1, 1, 1, 10, 1, 1, 1, 1, 5, 1, 1, 1, 1, 10, 21, 1, 1, 1, 25, 1, 1, 1, 1, 5, 10, 1, 1, 1, 10, 1, 1, 1, 1, 5, 10, 21, 1, 1, 10, 21, 1, 1, 1, 25, 1, 10, 1, 1, 5, 10, 1, 1, 1, 10, 1, 10, 21]\n"
       ]
      }
     ],
     "input": [
      "def dpMakeChange(coinValueList, change, minCoins, coinsUsed):\n",
      "    for cents in range(change+1):\n",
      "        coinCount = cents\n",
      "        newCoin = 1\n",
      "        for j in [c for c in coinValueList if c <= cents]:\n",
      "            if minCoins[cents-j] + 1 < coinCount:\n",
      "                coinCount = minCoins[cents-j]+1\n",
      "                newCoin = j\n",
      "        minCoins[cents] = coinCount\n",
      "        coinsUsed[cents] = newCoin\n",
      "    return minCoins[change]\n",
      "\n",
      "def printCoins(coinsUsed,change):\n",
      "    coin = change\n",
      "    while coin > 0:\n",
      "        thisCoin = coinsUsed[coin]\n",
      "        print(thisCoin)\n",
      "        coin = coin - thisCoin\n",
      "\n",
      "def main():\n",
      "    amnt = 63\n",
      "    clist = [1,5,10,21,25]\n",
      "    coinsUsed = [0]*(amnt+1)\n",
      "    coinCount = [0]*(amnt+1)\n",
      "\n",
      "    print(\"Making change for\",amnt,\"requires\")\n",
      "    print(dpMakeChange(clist,amnt,coinCount,coinsUsed),\"coins\")\n",
      "    print(\"They are:\")\n",
      "    printCoins(coinsUsed,amnt)\n",
      "    print(\"The used list is as follows:\")\n",
      "    print(coinsUsed)\n",
      "\n",
      "main()"
     ],
     "language": "python",
     "prompt_number": 9
    },
    {
     "cell_type": "markdown",
     "metadata": {},
     "source": [
      ""
     ]
    },
    {
     "cell_type": "code",
     "metadata": {},
     "outputs": [],
     "input": [
      ""
     ],
     "language": "python"
    }
   ]
  }
 ],
 "cells": [],
 "metadata": {
  "signature": "sha256:a1b51ad58168e7bfea8cabd0fb205948828093dc21fc20aa9547f9bc3d233af3"
 },
 "nbformat": 3,
 "nbformat_minor": 0
}