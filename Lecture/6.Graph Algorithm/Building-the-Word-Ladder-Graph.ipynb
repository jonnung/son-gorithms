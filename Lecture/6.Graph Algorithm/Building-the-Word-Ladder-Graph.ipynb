{
 "metadata": {
  "name": "",
  "signature": "sha256:cdf32a9c55449bb6291bd027b1bf177433bc7e821ca19379227eecc67d9ca29a"
 },
 "nbformat": 3,
 "nbformat_minor": 0,
 "worksheets": [
  {
   "cells": [
    {
     "cell_type": "markdown",
     "metadata": {},
     "source": [
      "# Building the Word Ladder Graph\n",
      "\ud070 \ubc84\ucf13\uc758 \ub77c\ubca8\uc5d0\ub294 \ub2e8\uc5b4\uc758 \uae38\uc774\uac00 4\uc778 \ub2e8\uc5b4\uc911\uc5d0 \ud55c\uae00\uc790\ub9cc \uc5b8\ub354\uc2a4\ucf54\uc5b4\ub85c \uad50\uccb4\ub418\uc5b4 \uc788\uace0, \uadf8 \ubc84\ucf13\uc5d0\ub294 \ub9ce\uc740 \uc218\uc758 \ub2e8\uc5b4\uac00 \ub2f4\uaca8\uc838 \uc788\ub2e4.  \n",
      "\uc608\ub97c \ub4e4\uc5b4 \u201cpop_\u201d \ub77c\ubca8\uc774 \ubd99\uc740 \ubc84\ucf13\uc5d0\ub294 \u201cpope\u201d, \u201cpops\u201d \ub458\ub2e4 \ub4e4\uc5b4 \uc788\uc744 \uc218 \uc788\ub2e4.  \n",
      "\ub9e4\ubc88 \uc77c\uce58\ud558\ub294 \ubc84\ucf13\uc744 \ucc3e\uace0, \ud574\ub2f9\ud558\ub294 \ub2e8\uc5b4\ub97c \uc9d1\uc5b4 \ub123\ub294\ub2e4.\n"
     ]
    },
    {
     "cell_type": "code",
     "collapsed": false,
     "input": [
      "from lib.pythonds.graphs import Graph\n",
      "\n",
      "def buildGraph(wordFile):\n",
      "    d = {}\n",
      "    g = Graph()\n",
      "    wfile = open(wordFile,'r')\n",
      "    \n",
      "    # \ud55c\uae00\uc790\ub9cc \ub2e4\ub978 \ub2e8\uc5b4\uc758 \ubc84\ucf13\uc744 \ub9cc\ub4ec  \n",
      "    for line in wfile:\n",
      "        word = line[:-1]\n",
      "        for i in range(len(word)):\n",
      "            bucket = word[:i] + '_' + word[i+1:]\n",
      "            if bucket in d:\n",
      "                d[bucket].append(word)\n",
      "            else:\n",
      "                d[bucket] = [word]\n",
      "\n",
      "    # \uc815\uc810\ub4e4\uc744 \ucd94\uac00\ud558\uace0, \uac19\uc740 \ubc84\ucf13\uc548\uc5d0 \ub2e8\uc5b4\ub4e4\ub9c8\ub2e4 \uac04\uc120\uc744 \ub9cc\ub4ec  \n",
      "    for bucket in d.keys():\n",
      "        for word1 in d[bucket]:\n",
      "            for word2 in d[bucket]:\n",
      "                if word1 != word2:\n",
      "                    g.addEdge(word1,word2)\n",
      "    return g"
     ],
     "language": "python",
     "metadata": {},
     "outputs": [],
     "prompt_number": 1
    },
    {
     "cell_type": "code",
     "collapsed": false,
     "input": [
      "g = buildGraph('sample_words.txt')"
     ],
     "language": "python",
     "metadata": {},
     "outputs": [],
     "prompt_number": 2
    },
    {
     "cell_type": "code",
     "collapsed": false,
     "input": [
      "for v in g:\n",
      "    for w in v.getConnections():\n",
      "        print(\"(%s, %s)\" % (v.getId(), w.getId()))"
     ],
     "language": "python",
     "metadata": {},
     "outputs": [
      {
       "output_type": "stream",
       "stream": "stdout",
       "text": [
        "(foil, foul)\n",
        "(foil, fool)\n",
        "(foil, fail)\n",
        "(fool, foul)\n",
        "(fool, foil)\n",
        "(fool, pool)\n",
        "(fool, cool)\n",
        "(pope, pole)\n",
        "(sage, page)\n",
        "(sage, sale)\n",
        "(sale, pale)\n",
        "(sale, sage)\n",
        "(foul, foil)\n",
        "(foul, fool)\n",
        "(pole, poll)\n",
        "(pole, pale)\n",
        "(pole, pope)\n",
        "(pall, pale)\n",
        "(pall, fall)\n",
        "(pall, poll)\n",
        "(fall, fail)\n",
        "(fall, pall)\n",
        "(fail, foil)\n",
        "(fail, fall)\n",
        "(poll, pole)\n",
        "(poll, pool)\n",
        "(poll, pall)\n",
        "(pale, page)\n",
        "(pale, pole)\n",
        "(pale, sale)\n",
        "(pale, pall)\n",
        "(page, pale)\n",
        "(page, sage)\n",
        "(pool, poll)\n",
        "(pool, fool)\n",
        "(pool, cool)\n",
        "(cool, fool)\n",
        "(cool, pool)\n"
       ]
      }
     ],
     "prompt_number": 3
    },
    {
     "cell_type": "code",
     "collapsed": false,
     "input": [],
     "language": "python",
     "metadata": {},
     "outputs": []
    }
   ],
   "metadata": {}
  }
 ]
}