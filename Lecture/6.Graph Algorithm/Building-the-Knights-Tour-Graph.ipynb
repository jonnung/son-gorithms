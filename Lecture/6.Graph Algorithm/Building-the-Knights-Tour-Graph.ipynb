{
 "metadata": {
  "name": "",
  "signature": "sha256:8dfece75145489b58a84ff6071f981bb5a810e93a72402fb64e0ea61d4a9eb75"
 },
 "nbformat": 3,
 "nbformat_minor": 0,
 "worksheets": [
  {
   "cells": [
    {
     "cell_type": "markdown",
     "metadata": {},
     "source": [
      "# Building the Knight\u2019s Tour Graph\n",
      "**knightGraph** \ud568\uc218\ub85c n x n \uc758 \uadf8\ub798\ud504\ub97c \ub9cc\ub4e4\ub2e4.  \n",
      "**knightGraph** \ud568\uc218\ub294 \ud558\ub098\uc758 \uccb4\uc2a4\ud310 \uc804\uccb4\ub97c \ub9cc\ub4e0\ub2e4.  \n",
      "**getLegalMoves** \ud568\uc218\ub294 \uccb4\uc2a4\ud310\uc758 \uc704\uce58\uc5d0\uc11c \uc6c0\uc9c1\uc77c \uc218 \uc788\ub294 \uc704\uce58\uc5d0 \ub300\ud55c \ubaa9\ub85d\uc744 \ub9cc\ub4e0\ub2e4. \uadf8\ub798\ud504\uc758 \ubaa8\ub4e0 \uac04\uc120\uc744 \uae30\uc0ac\uc758 \uc815\ud574\uc9c4 \uc6c0\uc9c1\uc784\uc73c\ub85c \ubcc0\ud658\ud55c\ub2e4.  \n",
      "**posToNodeId** \ud568\uc218\ub294 \uccb4\uc2a4\ud310\uc758 \uc704\uce58(\uc88c\ud45c) \uc22b\uc790\ub97c \ubc18\ud658\ud55c\ub2e4.  \n",
      "  \n",
      "## Listing1"
     ]
    },
    {
     "cell_type": "code",
     "collapsed": false,
     "input": [
      "from lib.pythonds.graphs import Graph\n",
      "\n",
      "def knightGraph(bdSize):\n",
      "    ktGraph = Graph()\n",
      "    for row in range(bdSize):\n",
      "       for col in range(bdSize):\n",
      "           nodeId = posToNodeId(row,col,bdSize)\n",
      "           newPositions = genLegalMoves(row,col,bdSize)\n",
      "           for e in newPositions:\n",
      "               nid = posToNodeId(e[0],e[1],bdSize)\n",
      "               ktGraph.addEdge(nodeId,nid)\n",
      "    return ktGraph\n",
      "\n",
      "def posToNodeId(row, column, board_size):\n",
      "    return (row * board_size) + column"
     ],
     "language": "python",
     "metadata": {},
     "outputs": [],
     "prompt_number": 1
    },
    {
     "cell_type": "markdown",
     "metadata": {},
     "source": [
      "----\n",
      "## Listing2"
     ]
    },
    {
     "cell_type": "code",
     "collapsed": false,
     "input": [
      "def genLegalMoves(x, y, bdSize):\n",
      "    newMoves = []\n",
      "    moveOffsets = [(-1,-2),(-1,2),(-2,-1),(-2,1),\n",
      "                   ( 1,-2),( 1,2),( 2,-1),( 2,1)]\n",
      "    for i in moveOffsets:\n",
      "        newX = x + i[0]\n",
      "        newY = y + i[1]\n",
      "        if legalCoord(newX,bdSize) and \\\n",
      "                        legalCoord(newY,bdSize):\n",
      "            newMoves.append((newX,newY))\n",
      "    return newMoves\n",
      "\n",
      "def legalCoord(x, bdSize):\n",
      "    if x >= 0 and x < bdSize:\n",
      "        return True\n",
      "    else:\n",
      "        return False"
     ],
     "language": "python",
     "metadata": {},
     "outputs": [],
     "prompt_number": 3
    },
    {
     "cell_type": "code",
     "collapsed": false,
     "input": [],
     "language": "python",
     "metadata": {},
     "outputs": []
    }
   ],
   "metadata": {}
  }
 ]
}