{
 "metadata": {
  "name": "",
  "signature": "sha256:b820da56081ab6fcefcf3c15fa98974d8068a9da857b82a10633627f35204d5c"
 },
 "nbformat": 3,
 "nbformat_minor": 0,
 "worksheets": [
  {
   "cells": [
    {
     "cell_type": "markdown",
     "metadata": {},
     "source": [
      "# Implementing Breadth First Search\n",
      "  \n",
      "\ubaa8\ub4e0 \uc815\uc810\uc740 \ud770\uc0c9\uc73c\ub85c \ucd08\uae30\ud654 \ud55c\ub2e4.  \n",
      "**\ud770\uc0c9** \uc815\uc810\uc740 \uc544\uc9c1 \ud0d0\uc0c9\ud558\uc9c0 \uc54a\uc740 \uc815\uc810, \ucc98\uc74c \ud0d0\uc0c9\uc774 \uc2dc\uc791\ub418\uba74 \uc815\uc810\uc740 **\ud68c\uc0c9**\uc774 \ub41c\ub2e4.  \n",
      "\ud0d0\uc0c9\uc774 \uc644\ub8cc\ub41c \uc815\uc810\uc740 **\uac80\uc815\uc0c9**\uc774 \ub41c\ub2e4.  \n",
      "\n",
      "----\n",
      "\n",
      "## \uc778\uc811\ub9ac\uc2a4\ud2b8\ub97c \uc0ac\uc6a9\ud574\uc11c \ub108\ube44\uc6b0\uc120\ud0d0\uc0c9\uc744 \uad6c\ud604\ud55c \ucf54\ub4dc\n",
      "> \ub2e4\uc74c \ud0d0\uc0c9\ud560 \uc815\uc810\uc744 \uacb0\uc815\ud558\uae30 \uc704\ud574 queue\ub97c \uc0ac\uc6a9"
     ]
    },
    {
     "cell_type": "code",
     "collapsed": false,
     "input": [
      "from lib.pythonds.graphs import Graph, Vertex\n",
      "from lib.pythonds.basic import Queue\n",
      "\n",
      "def bfs(g, start):\n",
      "  start.setDistance(0)\n",
      "  start.setPred(None)\n",
      "    \n",
      "  vertQueue = Queue()\n",
      "  vertQueue.enqueue(start)\n",
      "    \n",
      "  while (vertQueue.size() > 0):\n",
      "    currentVert = vertQueue.dequeue()\n",
      "    for nbr in currentVert.getConnections():\n",
      "      if (nbr.getColor() == 'white'):\n",
      "        nbr.setColor('gray')\n",
      "        nbr.setDistance(currentVert.getDistance() + 1)\n",
      "        nbr.setPred(currentVert)\n",
      "        vertQueue.enqueue(nbr)\n",
      "    currentVert.setColor('black')"
     ],
     "language": "python",
     "metadata": {},
     "outputs": [],
     "prompt_number": 2
    },
    {
     "cell_type": "markdown",
     "metadata": {},
     "source": []
    }
   ],
   "metadata": {}
  }
 ]
}